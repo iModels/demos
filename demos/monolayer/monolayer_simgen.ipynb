{
 "cells": [
  {
   "cell_type": "code",
   "execution_count": null,
   "metadata": {
    "collapsed": false
   },
   "outputs": [],
   "source": [
    "import os\n",
    "import warnings\n",
    "import numpy as np\n",
    "warnings.filterwarnings('ignore')\n",
    "with warnings.catch_warnings():\n",
    "    warnings.simplefilter(\"ignore\")\n",
    "    import matplotlib.pyplot as plt\n",
    "    import seaborn as sns\n",
    "\n",
    "    from simgen.project import Project\n",
    "    import mbuild as mb\n",
    "    import metamds as mds\n",
    "    import mdtraj as md\n",
    "    #from mdtraj.html import TrajectorySliderView\n",
    "    import nglview\n",
    "    from ipywidgets.widgets import Box\n",
    "\n",
    "%matplotlib inline\n",
    "!rm -rf simgen_output/ *.top *.gro"
   ]
  },
  {
   "cell_type": "code",
   "execution_count": null,
   "metadata": {
    "collapsed": false
   },
   "outputs": [],
   "source": [
    "github_project_url = 'https://github.com/iModels/demos/demos/monolayer/simgen_project'\n",
    "from simgen.mdsblocks.editor import Editor\n",
    "editor = Editor('place_here_your_github_token', github_project_url)\n",
    "editor.show()"
   ]
  },
  {
   "cell_type": "code",
   "execution_count": null,
   "metadata": {
    "collapsed": true
   },
   "outputs": [],
   "source": [
    "def build_monolayer(chain_length, n_molecules, **kwargs):\n",
    "    from mbuild.examples import AlkaneMonolayer\n",
    "    pattern = mb.Random2DPattern(n_molecules)\n",
    "    monolayer = AlkaneMonolayer(pattern, tile_x=1, tile_y=1, chain_length=chain_length)\n",
    "    monolayer.name = 'alkane_n-{}_l-{}'.format(n_molecules, chain_length)\n",
    "    mb.translate(monolayer, [0, 0, 2])\n",
    "    box = monolayer.boundingbox\n",
    "    monolayer.periodicity += np.array([0, 0, 5 * box.lengths[2]])\n",
    "    return monolayer"
   ]
  },
  {
   "cell_type": "code",
   "execution_count": null,
   "metadata": {
    "collapsed": true
   },
   "outputs": [],
   "source": [
    "def create_run_script(**parameters):\n",
    "    project = Project(github_project_url+'/online_project.yaml')\n",
    "\n",
    "    return project.render_tasks('prg', output_dir='./', inject_dict=parameters)"
   ]
  },
  {
   "cell_type": "code",
   "execution_count": null,
   "metadata": {
    "collapsed": false
   },
   "outputs": [],
   "source": [
    "# Initialize simulation with a template and some metadata\n",
    "sim = mds.Simulation(name='monolayer', \n",
    "                     template=create_run_script,\n",
    "                     input_dir='static_input_files',\n",
    "                     output_dir='simgen_output')\n",
    "\n",
    "chain_lengths = [8, 12, 16, 20]\n",
    "for length in chain_lengths:\n",
    "    parameters = {'chain_length': length,\n",
    "                  'n_molecules': 100,\n",
    "                  'forcefield': 'OPLS-aa'}\n",
    "    \n",
    "    compound = build_monolayer(**parameters)\n",
    "    parameters['compound'] = compound\n",
    "    parameters['system_name'] = compound.name\n",
    "    \n",
    "    # Parameterize our simulation template\n",
    "    sim.parametrize(**parameters)"
   ]
  },
  {
   "cell_type": "code",
   "execution_count": null,
   "metadata": {
    "collapsed": false
   },
   "outputs": [],
   "source": [
    "# Run\n",
    "REMOTE_EXECUTION=True\n",
    "if REMOTE_EXECUTION:\n",
    "    sim.execute_all(hostname='rahman.vuse.vanderbilt.edu', username='imodels')\n",
    "else:\n",
    "    sim.execute_all()"
   ]
  },
  {
   "cell_type": "code",
   "execution_count": null,
   "metadata": {
    "collapsed": false
   },
   "outputs": [],
   "source": [
    "if REMOTE_EXECUTION:\n",
    "    sim.sync_all()"
   ]
  },
  {
   "cell_type": "code",
   "execution_count": null,
   "metadata": {
    "collapsed": false
   },
   "outputs": [],
   "source": [
    "task_1 = next(sim.tasks())\n",
    "trj_path = os.path.join(task_1.output_dir, 'nvt.xtc')\n",
    "top_path = os.path.join(task_1.output_dir, 'em.gro')\n",
    "traj = md.load(trj_path, top=top_path)\n",
    "print(traj)"
   ]
  },
  {
   "cell_type": "code",
   "execution_count": null,
   "metadata": {
    "collapsed": false
   },
   "outputs": [],
   "source": [
    "t = nglview.MDTrajTrajectory(traj)\n",
    "w = nglview.NGLWidget(t)\n",
    "w.representations = [{'type':'ball+stick'}]\n",
    "Box(children=(w,))"
   ]
  },
  {
   "cell_type": "code",
   "execution_count": null,
   "metadata": {
    "collapsed": false
   },
   "outputs": [],
   "source": [
    "average_S2 = list()\n",
    "for task in sim.tasks():\n",
    "    # Load up the trajectory\n",
    "    trj_path = os.path.join(task.output_dir, 'nvt.xtc')\n",
    "    top_path = os.path.join(task.output_dir, 'em.gro')\n",
    "    traj = md.load(trj_path, top=top_path)\n",
    "    \n",
    "    # Nematic order parameter\n",
    "    atoms_per_chain = int((traj.n_atoms - 1800) / 100)\n",
    "    chain_indices = [[n+x for x in range(atoms_per_chain)] \n",
    "                     for n in range(1800, traj.n_atoms, atoms_per_chain)]\n",
    "    s2 = md.compute_nematic_order(traj, indices=chain_indices)\n",
    "    average_S2.append(np.mean(s2))\n",
    "    \n",
    "    \n",
    "plt.plot(chain_lengths, average_S2)\n",
    "plt.xlabel('chain length (# carbon atoms)')\n",
    "plt.ylabel('Mean S2')"
   ]
  },
  {
   "cell_type": "code",
   "execution_count": null,
   "metadata": {
    "collapsed": true
   },
   "outputs": [],
   "source": []
  },
  {
   "cell_type": "code",
   "execution_count": null,
   "metadata": {
    "collapsed": true
   },
   "outputs": [],
   "source": []
  }
 ],
 "metadata": {
  "kernelspec": {
   "display_name": "Python 2",
   "language": "python",
   "name": "python2"
  },
  "language_info": {
   "codemirror_mode": {
    "name": "ipython",
    "version": 2
   },
   "file_extension": ".py",
   "mimetype": "text/x-python",
   "name": "python",
   "nbconvert_exporter": "python",
   "pygments_lexer": "ipython2",
   "version": "2.7.11"
  }
 },
 "nbformat": 4,
 "nbformat_minor": 0
}
