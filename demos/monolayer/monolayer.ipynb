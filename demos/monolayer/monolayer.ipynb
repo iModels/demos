{
 "cells": [
  {
   "cell_type": "code",
   "execution_count": 1,
   "metadata": {
    "collapsed": false
   },
   "outputs": [
    {
     "name": "stderr",
     "output_type": "stream",
     "text": [
      "/Users/sallai/anaconda/envs/imodels/lib/python2.7/site-packages/jupyter_core/application.py:106: DeprecationWarning: metadata {'config': True} was set from the constructor.  Metadata should be set using the .tag() method, e.g., Int().tag(key1='value1', key2='value2')\n",
      "  help=\"\"\"Generate default config file.\"\"\"\n",
      "/Users/sallai/anaconda/envs/imodels/lib/python2.7/site-packages/jupyter_core/application.py:110: DeprecationWarning: metadata {'config': True} was set from the constructor.  Metadata should be set using the .tag() method, e.g., Int().tag(key1='value1', key2='value2')\n",
      "  help=\"Specify a config file to load.\"\n",
      "/Users/sallai/anaconda/envs/imodels/lib/python2.7/site-packages/jupyter_core/application.py:118: DeprecationWarning: metadata {'config': True} was set from the constructor.  Metadata should be set using the .tag() method, e.g., Int().tag(key1='value1', key2='value2')\n",
      "  help=\"\"\"Full path of a config file.\"\"\",\n",
      "/Users/sallai/anaconda/envs/imodels/lib/python2.7/site-packages/jupyter_core/application.py:122: DeprecationWarning: metadata {'config': True} was set from the constructor.  Metadata should be set using the .tag() method, e.g., Int().tag(key1='value1', key2='value2')\n",
      "  help=\"\"\"Answer yes to any prompts.\"\"\"\n",
      "/Users/sallai/anaconda/envs/imodels/lib/python2.7/site-packages/notebook/nbextensions.py:286: DeprecationWarning: metadata {'config': True} was set from the constructor.  Metadata should be set using the .tag() method, e.g., Int().tag(key1='value1', key2='value2')\n",
      "  overwrite = Bool(False, config=True, help=\"Force overwrite of existing files\")\n",
      "/Users/sallai/anaconda/envs/imodels/lib/python2.7/site-packages/notebook/nbextensions.py:287: DeprecationWarning: metadata {'config': True} was set from the constructor.  Metadata should be set using the .tag() method, e.g., Int().tag(key1='value1', key2='value2')\n",
      "  symlink = Bool(False, config=True, help=\"Create symlinks instead of copying files\")\n",
      "/Users/sallai/anaconda/envs/imodels/lib/python2.7/site-packages/notebook/nbextensions.py:288: DeprecationWarning: metadata {'config': True} was set from the constructor.  Metadata should be set using the .tag() method, e.g., Int().tag(key1='value1', key2='value2')\n",
      "  user = Bool(False, config=True, help=\"Whether to do a user install\")\n",
      "/Users/sallai/anaconda/envs/imodels/lib/python2.7/site-packages/notebook/nbextensions.py:289: DeprecationWarning: metadata {'config': True} was set from the constructor.  Metadata should be set using the .tag() method, e.g., Int().tag(key1='value1', key2='value2')\n",
      "  prefix = Unicode('', config=True, help=\"Installation prefix\")\n",
      "/Users/sallai/anaconda/envs/imodels/lib/python2.7/site-packages/notebook/nbextensions.py:290: DeprecationWarning: metadata {'config': True} was set from the constructor.  Metadata should be set using the .tag() method, e.g., Int().tag(key1='value1', key2='value2')\n",
      "  nbextensions_dir = Unicode('', config=True, help=\"Full path to nbextensions dir (probably use prefix or user)\")\n",
      "/Users/sallai/anaconda/envs/imodels/lib/python2.7/site-packages/notebook/nbextensions.py:291: DeprecationWarning: metadata {'config': True} was set from the constructor.  Metadata should be set using the .tag() method, e.g., Int().tag(key1='value1', key2='value2')\n",
      "  destination = Unicode('', config=True, help=\"Destination for the copy or symlink\")\n",
      "/Users/sallai/anaconda/envs/imodels/lib/python2.7/site-packages/notebook/nbextensions.py:293: DeprecationWarning: metadata {'config': True} was set from the constructor.  Metadata should be set using the .tag() method, e.g., Int().tag(key1='value1', key2='value2')\n",
      "  help=\"Verbosity level\"\n",
      "/Users/sallai/anaconda/envs/imodels/lib/python2.7/site-packages/notebook/nbextensions.py:333: DeprecationWarning: metadata {'config': True} was set from the constructor.  Metadata should be set using the .tag() method, e.g., Int().tag(key1='value1', key2='value2')\n",
      "  help=(\"Which config section to add the extension to. \"\n",
      "/Users/sallai/anaconda/envs/imodels/lib/python2.7/site-packages/notebook/nbextensions.py:364: DeprecationWarning: metadata {'config': True} was set from the constructor.  Metadata should be set using the .tag() method, e.g., Int().tag(key1='value1', key2='value2')\n",
      "  help=(\"Which config section to remove the extension from. \"\n",
      "/Users/sallai/anaconda/envs/imodels/lib/python2.7/site-packages/nglview/__init__.py:112: DeprecationWarning: metadata {'sync': True} was set from the constructor.  Metadata should be set using the .tag() method, e.g., Int().tag(key1='value1', key2='value2')\n",
      "  _view_name = Unicode(\"NGLView\", sync=True)\n",
      "/Users/sallai/anaconda/envs/imodels/lib/python2.7/site-packages/nglview/__init__.py:113: DeprecationWarning: metadata {'sync': True} was set from the constructor.  Metadata should be set using the .tag() method, e.g., Int().tag(key1='value1', key2='value2')\n",
      "  _view_module = Unicode(\"nbextensions/nglview/widget_ngl\", sync=True)\n",
      "/Users/sallai/anaconda/envs/imodels/lib/python2.7/site-packages/nglview/__init__.py:114: DeprecationWarning: metadata {'sync': True} was set from the constructor.  Metadata should be set using the .tag() method, e.g., Int().tag(key1='value1', key2='value2')\n",
      "  selection = Unicode(\"*\", sync=True)\n",
      "/Users/sallai/anaconda/envs/imodels/lib/python2.7/site-packages/nglview/__init__.py:115: DeprecationWarning: metadata {'sync': True} was set from the constructor.  Metadata should be set using the .tag() method, e.g., Int().tag(key1='value1', key2='value2')\n",
      "  structure = Dict(sync=True)\n",
      "/Users/sallai/anaconda/envs/imodels/lib/python2.7/site-packages/nglview/__init__.py:116: DeprecationWarning: metadata {'sync': True} was set from the constructor.  Metadata should be set using the .tag() method, e.g., Int().tag(key1='value1', key2='value2')\n",
      "  representations = List(sync=True)\n",
      "/Users/sallai/anaconda/envs/imodels/lib/python2.7/site-packages/nglview/__init__.py:117: DeprecationWarning: metadata {'sync': True} was set from the constructor.  Metadata should be set using the .tag() method, e.g., Int().tag(key1='value1', key2='value2')\n",
      "  coordinates = List(sync=True)\n",
      "/Users/sallai/anaconda/envs/imodels/lib/python2.7/site-packages/nglview/__init__.py:118: DeprecationWarning: metadata {'sync': True} was set from the constructor.  Metadata should be set using the .tag() method, e.g., Int().tag(key1='value1', key2='value2')\n",
      "  picked = Dict(sync=True)\n",
      "/Users/sallai/anaconda/envs/imodels/lib/python2.7/site-packages/nglview/__init__.py:119: DeprecationWarning: metadata {'sync': True} was set from the constructor.  Metadata should be set using the .tag() method, e.g., Int().tag(key1='value1', key2='value2')\n",
      "  frame = Int(sync=True)\n",
      "/Users/sallai/anaconda/envs/imodels/lib/python2.7/site-packages/nglview/__init__.py:120: DeprecationWarning: metadata {'sync': True} was set from the constructor.  Metadata should be set using the .tag() method, e.g., Int().tag(key1='value1', key2='value2')\n",
      "  count = Int(sync=True)\n",
      "/Users/sallai/anaconda/envs/imodels/lib/python2.7/site-packages/ipykernel/pylab/config.py:66: DeprecationWarning: metadata {'config': True} was set from the constructor.  Metadata should be set using the .tag() method, e.g., Int().tag(key1='value1', key2='value2')\n",
      "  inline backend.\"\"\"\n",
      "/Users/sallai/anaconda/envs/imodels/lib/python2.7/site-packages/ipykernel/pylab/config.py:71: DeprecationWarning: metadata {'config': True} was set from the constructor.  Metadata should be set using the .tag() method, e.g., Int().tag(key1='value1', key2='value2')\n",
      "  'retina', 'jpeg', 'svg', 'pdf'.\"\"\")\n",
      "/Users/sallai/anaconda/envs/imodels/lib/python2.7/site-packages/ipykernel/pylab/config.py:85: DeprecationWarning: metadata {'config': True} was set from the constructor.  Metadata should be set using the .tag() method, e.g., Int().tag(key1='value1', key2='value2')\n",
      "  use `figure_formats` instead)\"\"\")\n",
      "/Users/sallai/anaconda/envs/imodels/lib/python2.7/site-packages/ipykernel/pylab/config.py:95: DeprecationWarning: metadata {'config': True} was set from the constructor.  Metadata should be set using the .tag() method, e.g., Int().tag(key1='value1', key2='value2')\n",
      "  \"\"\"\n",
      "/Users/sallai/anaconda/envs/imodels/lib/python2.7/site-packages/ipykernel/pylab/config.py:114: DeprecationWarning: metadata {'config': True} was set from the constructor.  Metadata should be set using the .tag() method, e.g., Int().tag(key1='value1', key2='value2')\n",
      "  \"\"\")\n",
      "/Users/sallai/anaconda/envs/imodels/lib/python2.7/site-packages/ipykernel/pylab/config.py:44: DeprecationWarning: InlineBackend._config_changed is deprecated: use @observe and @unobserve instead.\n",
      "  def _config_changed(self, name, old, new):\n",
      "/Users/sallai/anaconda/envs/imodels/lib/python2.7/site-packages/traitlets/traitlets.py:770: DeprecationWarning: A parent of InlineBackend._config_changed has adopted the new @observe(change) API\n",
      "  clsname, change_or_name), DeprecationWarning)\n",
      "/Users/sallai/anaconda/envs/imodels/lib/python2.7/site-packages/IPython/core/formatters.py:98: DeprecationWarning: DisplayFormatter._formatters_default is deprecated: use @default decorator instead.\n",
      "  def _formatters_default(self):\n",
      "/Users/sallai/anaconda/envs/imodels/lib/python2.7/site-packages/IPython/core/formatters.py:677: DeprecationWarning: PlainTextFormatter._deferred_printers_default is deprecated: use @default decorator instead.\n",
      "  def _deferred_printers_default(self):\n",
      "/Users/sallai/anaconda/envs/imodels/lib/python2.7/site-packages/IPython/core/formatters.py:669: DeprecationWarning: PlainTextFormatter._singleton_printers_default is deprecated: use @default decorator instead.\n",
      "  def _singleton_printers_default(self):\n",
      "/Users/sallai/anaconda/envs/imodels/lib/python2.7/site-packages/IPython/core/formatters.py:672: DeprecationWarning: PlainTextFormatter._type_printers_default is deprecated: use @default decorator instead.\n",
      "  def _type_printers_default(self):\n",
      "/Users/sallai/anaconda/envs/imodels/lib/python2.7/site-packages/IPython/core/formatters.py:672: DeprecationWarning: PlainTextFormatter._type_printers_default is deprecated: use @default decorator instead.\n",
      "  def _type_printers_default(self):\n",
      "/Users/sallai/anaconda/envs/imodels/lib/python2.7/site-packages/IPython/core/formatters.py:677: DeprecationWarning: PlainTextFormatter._deferred_printers_default is deprecated: use @default decorator instead.\n",
      "  def _deferred_printers_default(self):\n"
     ]
    }
   ],
   "source": [
    "import os\n",
    "import warnings\n",
    "from parmed.exceptions import GromacsWarning\n",
    "warnings.simplefilter(\"ignore\", GromacsWarning)\n",
    "warnings.simplefilter(\"ignore\", UserWarning)\n",
    "\n",
    "import matplotlib.pyplot as plt\n",
    "import numpy as np\n",
    "import seaborn as sns\n",
    "\n",
    "import mbuild as mb\n",
    "import metamds as mds\n",
    "import mdtraj as md\n",
    "\n",
    "import nglview\n",
    "from ipywidgets.widgets import Box\n",
    "\n",
    "%matplotlib inline\n",
    "!rm -rf output/ *.top *.gro"
   ]
  },
  {
   "cell_type": "code",
   "execution_count": 2,
   "metadata": {
    "collapsed": true
   },
   "outputs": [],
   "source": [
    "def build_monolayer(chain_length, n_molecules, **kwargs):\n",
    "    from mbuild.examples import AlkaneMonolayer\n",
    "    pattern = mb.Random2DPattern(n_molecules)\n",
    "    monolayer = AlkaneMonolayer(pattern, tile_x=1, tile_y=1, \n",
    "                                chain_length=chain_length)\n",
    "    mb.translate(monolayer, [0, 0, 2])\n",
    "    return monolayer"
   ]
  },
  {
   "cell_type": "code",
   "execution_count": 3,
   "metadata": {
    "collapsed": true
   },
   "outputs": [],
   "source": [
    "def create_run_script(build_func, forcefield, input_dir, **kwargs):\n",
    "    compound = build_func(**kwargs)\n",
    "    name = compound.name\n",
    "    em = os.path.join(input_dir, 'em.mdp')\n",
    "    nvt = os.path.join(input_dir, 'nvt.mdp')\n",
    "    gro = '{name}.gro'.format(name=name)\n",
    "    top = '{name}.top'.format(name=name)\n",
    "\n",
    "    box = compound.boundingbox\n",
    "    compound.periodicity += np.array([0, 0, 5 * box.lengths[2]])\n",
    "    compound.save(top, forcefield=forcefield, overwrite=True)\n",
    "\n",
    "    em_grompp = 'gmx grompp -f {mdp} -c {gro} -p {top} -o em.tpr'.format(mdp=em, gro=gro, top=top)\n",
    "    em_mdrun = 'gmx mdrun -v -deffnm em -ntmpi 1'\n",
    "\n",
    "    nvt_grompp = 'gmx grompp -f {mdp} -c em.gro -p {top} -o nvt.tpr'.format(mdp=nvt, top=top)\n",
    "    nvt_mdrun = 'gmx mdrun -v -deffnm nvt -ntmpi 1'\n",
    "\n",
    "    script = (em_grompp, em_mdrun, nvt_grompp, nvt_mdrun)\n",
    "    return script"
   ]
  },
  {
   "cell_type": "code",
   "execution_count": 4,
   "metadata": {
    "collapsed": false
   },
   "outputs": [],
   "source": [
    "# Initialize simulation with a template and some metadata\n",
    "sim = mds.Simulation(name='monolayer', \n",
    "                     template=create_run_script,\n",
    "                     input_dir='static_input_files',\n",
    "                     output_dir='output')\n",
    "\n",
    "#chain_lengths = [8, 12, 16, 20]\n",
    "chain_lengths = [2, 3]\n",
    "for length in chain_lengths:\n",
    "    parameters = {'chain_length': length,\n",
    "                  'n_molecules': 2, # WAS: 100\n",
    "                  'forcefield': 'OPLS-aa',\n",
    "                  'build_func': build_monolayer}\n",
    "    # Parameterize our simulation template\n",
    "    sim.parametrize(**parameters)"
   ]
  },
  {
   "cell_type": "code",
   "execution_count": null,
   "metadata": {
    "collapsed": false
   },
   "outputs": [],
   "source": [
    "# Run\n",
    "REMOTE_EXECUTION=True\n",
    "if REMOTE_EXECUTION:\n",
    "    sim.execute_all(hostname='rahman.vuse.vanderbilt.edu', username='imodels')\n",
    "else:\n",
    "    sim.execute_all()"
   ]
  },
  {
   "cell_type": "code",
   "execution_count": null,
   "metadata": {
    "collapsed": false
   },
   "outputs": [],
   "source": [
    "if REMOTE_EXECUTION:\n",
    "    sim.sync_all()"
   ]
  },
  {
   "cell_type": "code",
   "execution_count": null,
   "metadata": {
    "collapsed": false
   },
   "outputs": [],
   "source": [
    "task_1 = next(sim.tasks())\n",
    "trj_path = os.path.join(task_1.output_dir, 'nvt.xtc')\n",
    "top_path = os.path.join(task_1.output_dir, 'em.gro')\n",
    "traj = md.load(trj_path, top=top_path)\n",
    "print(traj)"
   ]
  },
  {
   "cell_type": "code",
   "execution_count": null,
   "metadata": {
    "collapsed": false
   },
   "outputs": [],
   "source": [
    "t = nglview.MDTrajTrajectory(traj)\n",
    "w = nglview.NGLWidget(t)\n",
    "w.representations = [{'type':'ball+stick'}]\n",
    "Box(children=(w,))"
   ]
  },
  {
   "cell_type": "code",
   "execution_count": null,
   "metadata": {
    "collapsed": false
   },
   "outputs": [],
   "source": [
    "average_S2 = list()\n",
    "for task in sim.tasks():\n",
    "    # Load up the trajectory\n",
    "    trj_path = os.path.join(task.output_dir, 'nvt.xtc')\n",
    "    top_path = os.path.join(task.output_dir, 'em.gro')\n",
    "    traj = md.load(trj_path, top=top_path)\n",
    "    \n",
    "    # Nematic order parameter\n",
    "    atoms_per_chain = int((traj.n_atoms - 1800) / 100)\n",
    "    chain_indices = [[n+x for x in range(atoms_per_chain)] \n",
    "                     for n in range(1800, traj.n_atoms, atoms_per_chain)]\n",
    "    s2 = md.compute_nematic_order(traj, indices=chain_indices)\n",
    "    average_S2.append(np.mean(s2))\n",
    "    \n",
    "    \n",
    "plt.plot(chain_lengths, average_S2)\n",
    "plt.xlabel('chain length (# carbon atoms)')\n",
    "plt.ylabel('Mean S2')"
   ]
  },
  {
   "cell_type": "code",
   "execution_count": null,
   "metadata": {
    "collapsed": false
   },
   "outputs": [],
   "source": []
  },
  {
   "cell_type": "code",
   "execution_count": null,
   "metadata": {
    "collapsed": true
   },
   "outputs": [],
   "source": []
  }
 ],
 "metadata": {
  "kernelspec": {
   "display_name": "Python 2",
   "language": "python",
   "name": "python2"
  },
  "language_info": {
   "codemirror_mode": {
    "name": "ipython",
    "version": 2
   },
   "file_extension": ".py",
   "mimetype": "text/x-python",
   "name": "python",
   "nbconvert_exporter": "python",
   "pygments_lexer": "ipython2",
   "version": "2.7.11"
  }
 },
 "nbformat": 4,
 "nbformat_minor": 0
}
