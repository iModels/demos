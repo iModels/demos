{
 "cells": [
  {
   "cell_type": "code",
   "execution_count": 2,
   "metadata": {
    "collapsed": false
   },
   "outputs": [],
   "source": [
    "import os\n",
    "import warnings\n",
    "warnings.filterwarnings('ignore')\n",
    "with warnings.catch_warnings():\n",
    "    warnings.simplefilter(\"ignore\")\n",
    "    import matplotlib.pyplot as plt\n",
    "    import seaborn as sns\n",
    "\n",
    "    import mbuild as mb\n",
    "    import metamds as mds\n",
    "    import mdtraj as md\n",
    "    from mdtraj.html import TrajectorySliderView\n",
    "\n",
    "%matplotlib inline\n",
    "!rm -rf output/ *.top *.gro"
   ]
  },
  {
   "cell_type": "code",
   "execution_count": 3,
   "metadata": {
    "collapsed": true
   },
   "outputs": [],
   "source": [
    "def build_ethane_box(box, n_molecules, **kwargs):\n",
    "    from mbuild.examples import Ethane\n",
    "    ethane = Ethane()\n",
    "    full_box = mb.fill_box(ethane, n_molecules, box)\n",
    "    full_box.name = '{}_ethanes'.format(n_molecules)\n",
    "    return full_box"
   ]
  },
  {
   "cell_type": "code",
   "execution_count": 4,
   "metadata": {
    "collapsed": true
   },
   "outputs": [],
   "source": [
    "# Input parameters\n",
    "parameters = {'n_molecules': 200,\n",
    "              'box': [3, 3, 3],\n",
    "              'forcefield': 'OPLS-aa'}\n",
    "\n",
    "# Build the initial configuration\n",
    "compound = build_ethane_box(**parameters)\n",
    "#compound.visualize()\n",
    "\n",
    "parameters['compound'] = compound"
   ]
  },
  {
   "cell_type": "code",
   "execution_count": 5,
   "metadata": {
    "collapsed": true
   },
   "outputs": [],
   "source": [
    "def create_run_script(compound, forcefield, input_dir, **kwargs):\n",
    "    name = compound.name\n",
    "    em = os.path.join(input_dir, 'em.mdp')\n",
    "    nvt = os.path.join(input_dir, 'nvt.mdp')\n",
    "    gro = '{name}.gro'.format(name=name)\n",
    "    top = '{name}.top'.format(name=name)\n",
    "\n",
    "    compound.save(top, forcefield=forcefield, overwrite=True)\n",
    "\n",
    "    em_grompp = 'gmx grompp -f {mdp} -c {gro} -p {top} -o em.tpr'.format(mdp=em, gro=gro, top=top)\n",
    "    em_mdrun = 'gmx mdrun -v -deffnm em'\n",
    "\n",
    "    nvt_grompp = 'gmx grompp -f {mdp} -c em.gro -p {top} -o nvt.tpr'.format(mdp=nvt, top=top)\n",
    "    nvt_mdrun = 'gmx mdrun -v -deffnm nvt'\n",
    "\n",
    "    script = (em_grompp, em_mdrun, nvt_grompp, nvt_mdrun)\n",
    "    return script"
   ]
  },
  {
   "cell_type": "code",
   "execution_count": 6,
   "metadata": {
    "collapsed": false
   },
   "outputs": [],
   "source": [
    "# Initialize a simulation instance with a template and some metadata\n",
    "sim = mds.Simulation(name='ethane', template=create_run_script, output_dir='output')\n",
    "\n",
    "# Parameterize our simulation template\n",
    "task = sim.parametrize(**parameters)"
   ]
  },
  {
   "cell_type": "code",
   "execution_count": 7,
   "metadata": {
    "collapsed": false
   },
   "outputs": [
    {
     "name": "stderr",
     "output_type": "stream",
     "text": [
      "DEBUG:ethane_debug:rsync -r -h --progress /Users/ctk3b/science/python/imodels/demos/demos/ethane_box/binary_lj_sim /Users/ctk3b/science/python/imodels/demos/demos/ethane_box/em.mdp /Users/ctk3b/science/python/imodels/demos/demos/ethane_box/nvt.mdp ctk3b@rahman.vuse.vanderbilt.edu:/raid6/homes/ctk3b/tmp.2VtjTzjJHl\n",
      "DEBUG:ethane_debug:b'building file list ... '\n",
      "DEBUG:ethane_debug:b' 0 files...'\n",
      "DEBUG:ethane_debug:b'12 files to consider'\n",
      "DEBUG:ethane_debug:b'em.mdp'\n",
      "DEBUG:ethane_debug:b'         853 100%    0.00kB/s    0:00:00'\n",
      "DEBUG:ethane_debug:b'         853 100%    0.00kB/s    0:00:00 (xfer#1, to-check=11/12)'\n",
      "DEBUG:ethane_debug:b'nvt.mdp'\n",
      "DEBUG:ethane_debug:b'         533 100%  520.51kB/s    0:00:00'\n",
      "DEBUG:ethane_debug:b'         533 100%  520.51kB/s    0:00:00 (xfer#2, to-check=10/12)'\n",
      "DEBUG:ethane_debug:b'binary_lj_sim/'\n",
      "DEBUG:ethane_debug:b'binary_lj_sim/binary_lj_sim.jinja'\n",
      "DEBUG:ethane_debug:b'       2.02K 100%    1.93MB/s    0:00:00'\n",
      "DEBUG:ethane_debug:b'       2.02K 100%    1.93MB/s    0:00:00 (xfer#3, to-check=8/12)'\n",
      "DEBUG:ethane_debug:b'binary_lj_sim/binary_lj_sim.yml'\n",
      "DEBUG:ethane_debug:b'         544 100%  531.25kB/s    0:00:00'\n",
      "DEBUG:ethane_debug:b'         544 100%  531.25kB/s    0:00:00 (xfer#4, to-check=7/12)'\n",
      "DEBUG:ethane_debug:b'binary_lj_sim/load_compound.jinja'\n",
      "DEBUG:ethane_debug:b'         107 100%  104.49kB/s    0:00:00'\n",
      "DEBUG:ethane_debug:b'         107 100%  104.49kB/s    0:00:00 (xfer#5, to-check=6/12)'\n",
      "DEBUG:ethane_debug:b'binary_lj_sim/load_compound.yml'\n",
      "DEBUG:ethane_debug:b'         279 100%  272.46kB/s    0:00:00'\n",
      "DEBUG:ethane_debug:b'         279 100%  272.46kB/s    0:00:00 (xfer#6, to-check=5/12)'\n",
      "DEBUG:ethane_debug:b'binary_lj_sim/offline_project.yaml'\n",
      "DEBUG:ethane_debug:b'         267 100%  260.74kB/s    0:00:00'\n",
      "DEBUG:ethane_debug:b'         267 100%  260.74kB/s    0:00:00 (xfer#7, to-check=4/12)'\n",
      "DEBUG:ethane_debug:b'binary_lj_sim/online_project.yaml'\n",
      "DEBUG:ethane_debug:b'         258 100%  251.95kB/s    0:00:00'\n",
      "DEBUG:ethane_debug:b'         258 100%  251.95kB/s    0:00:00 (xfer#8, to-check=3/12)'\n",
      "DEBUG:ethane_debug:b'binary_lj_sim/prg.yml'\n",
      "DEBUG:ethane_debug:b'         212 100%  207.03kB/s    0:00:00'\n",
      "DEBUG:ethane_debug:b'         212 100%  207.03kB/s    0:00:00 (xfer#9, to-check=2/12)'\n",
      "DEBUG:ethane_debug:b'binary_lj_sim/statements.jinja'\n",
      "DEBUG:ethane_debug:b'         206 100%  201.17kB/s    0:00:00'\n",
      "DEBUG:ethane_debug:b'         206 100%  201.17kB/s    0:00:00 (xfer#10, to-check=1/12)'\n",
      "DEBUG:ethane_debug:b'binary_lj_sim/statements.yml'\n",
      "DEBUG:ethane_debug:b'         127 100%  124.02kB/s    0:00:00'\n",
      "DEBUG:ethane_debug:b'         127 100%  124.02kB/s    0:00:00 (xfer#11, to-check=0/12)'\n",
      "DEBUG:ethane_debug:b''\n",
      "DEBUG:ethane_debug:b'sent 6.20K bytes  received 268 bytes  12.93K bytes/sec'\n",
      "DEBUG:ethane_debug:b'total size is 5.41K  speedup is 0.84'\n",
      "DEBUG:ethane_debug:rsync -r -h --links --progress /Users/ctk3b/science/python/imodels/demos/demos/ethane_box/output ctk3b@rahman.vuse.vanderbilt.edu:/raid6/homes/ctk3b/tmp.2VtjTzjJHl\n",
      "DEBUG:ethane_debug:b'building file list ... '\n",
      "DEBUG:ethane_debug:b' 0 files...'\n",
      "DEBUG:ethane_debug:b'9 files to consider'\n",
      "DEBUG:ethane_debug:b'output/'\n",
      "DEBUG:ethane_debug:b'output/ethane_debug.log'\n",
      "DEBUG:ethane_debug:b'       3.44K 100%    0.00kB/s    0:00:00'\n",
      "DEBUG:ethane_debug:b'       3.44K 100%    0.00kB/s    0:00:00 (xfer#1, to-check=7/9)'\n",
      "DEBUG:ethane_debug:b'output/ethane_info.log'\n",
      "DEBUG:ethane_debug:b'           0 100%    0.00kB/s    0:00:00 (xfer#2, to-check=6/9)'\n",
      "DEBUG:ethane_debug:b'output/task_0/'\n",
      "DEBUG:ethane_debug:b'output/task_0/200_ethanes.gro'\n",
      "DEBUG:ethane_debug:b'      32.77K  45%   31.25MB/s    0:00:00'\n",
      "DEBUG:ethane_debug:b'      72.08K 100%   68.74MB/s    0:00:00 (xfer#3, to-check=4/9)'\n",
      "DEBUG:ethane_debug:b'output/task_0/200_ethanes.top'\n",
      "DEBUG:ethane_debug:b'       4.40K 100%    2.10MB/s    0:00:00'\n",
      "DEBUG:ethane_debug:b'       4.40K 100%    2.10MB/s    0:00:00 (xfer#4, to-check=3/9)'\n",
      "DEBUG:ethane_debug:b'output/task_0/binary_lj_sim -> ../../binary_lj_sim'\n",
      "DEBUG:ethane_debug:b'output/task_0/em.mdp -> ../../em.mdp'\n",
      "DEBUG:ethane_debug:b'output/task_0/nvt.mdp -> ../../nvt.mdp'\n",
      "DEBUG:ethane_debug:b''\n",
      "DEBUG:ethane_debug:b'sent 80.39K bytes  received 138 bytes  161.06K bytes/sec'\n",
      "DEBUG:ethane_debug:b'total size is 79.96K  speedup is 0.99'\n"
     ]
    }
   ],
   "source": [
    "# Run\n",
    "task.execute(hostname='rahman.vuse.vanderbilt.edu', username='ctk3b')"
   ]
  },
  {
   "cell_type": "code",
   "execution_count": 8,
   "metadata": {
    "collapsed": false
   },
   "outputs": [
    {
     "data": {
      "text/plain": [
       "'Thu Jan 28 09:43:52 2016'"
      ]
     },
     "execution_count": 8,
     "metadata": {},
     "output_type": "execute_result"
    }
   ],
   "source": [
    "task.status()['start_time']"
   ]
  },
  {
   "cell_type": "code",
   "execution_count": 12,
   "metadata": {
    "collapsed": false
   },
   "outputs": [
    {
     "name": "stderr",
     "output_type": "stream",
     "text": [
      "DEBUG:ethane_debug:rsync -r -h --progress ctk3b@rahman.vuse.vanderbilt.edu:/raid6/homes/ctk3b/tmp.2VtjTzjJHl/output/task_0/* /Users/ctk3b/science/python/imodels/demos/demos/ethane_box/output/task_0\n",
      "DEBUG:ethane_debug:b'receiving file list ... '\n",
      "DEBUG:ethane_debug:b'17 files to consider'\n",
      "DEBUG:ethane_debug:b'skipping non-regular file \"binary_lj_sim\"'\n",
      "DEBUG:ethane_debug:b'skipping non-regular file \"em.mdp\"'\n",
      "DEBUG:ethane_debug:b'#mdout.mdp.1#'\n",
      "DEBUG:ethane_debug:b'           0   0%    0.00kB/s    0:00:00'\n",
      "DEBUG:ethane_debug:b'      11.63K 100%   11.09MB/s    0:00:00 (xfer#1, to-check=16/17)'\n",
      "DEBUG:ethane_debug:b'skipping non-regular file \"nvt.mdp\"'\n",
      "DEBUG:ethane_debug:b'200_ethanes.gro'\n",
      "DEBUG:ethane_debug:b'           0   0%    0.00kB/s    0:00:00'\n",
      "DEBUG:ethane_debug:b'      72.08K 100%    7.64MB/s    0:00:00 (xfer#2, to-check=15/17)'\n",
      "DEBUG:ethane_debug:b'200_ethanes.top'\n",
      "DEBUG:ethane_debug:b'           0   0%    0.00kB/s    0:00:00'\n",
      "DEBUG:ethane_debug:b'       4.40K 100%  429.39kB/s    0:00:00 (xfer#3, to-check=14/17)'\n",
      "DEBUG:ethane_debug:b'em.edr'\n",
      "DEBUG:ethane_debug:b'           0   0%    0.00kB/s    0:00:00'\n",
      "DEBUG:ethane_debug:b'       3.40K 100%  302.20kB/s    0:00:00 (xfer#4, to-check=12/17)'\n",
      "DEBUG:ethane_debug:b'em.gro'\n",
      "DEBUG:ethane_debug:b'           0   0%    0.00kB/s    0:00:00'\n",
      "DEBUG:ethane_debug:b'      72.05K 100%    5.29MB/s    0:00:00 (xfer#5, to-check=11/17)'\n",
      "DEBUG:ethane_debug:b'em.log'\n",
      "DEBUG:ethane_debug:b'           0   0%    0.00kB/s    0:00:00'\n",
      "DEBUG:ethane_debug:b'      25.56K 100%    1.62MB/s    0:00:00 (xfer#6, to-check=10/17)'\n",
      "DEBUG:ethane_debug:b'em.tpr'\n",
      "DEBUG:ethane_debug:b'           0   0%    0.00kB/s    0:00:00'\n",
      "DEBUG:ethane_debug:b'      41.71K 100%    2.34MB/s    0:00:00 (xfer#7, to-check=8/17)'\n",
      "DEBUG:ethane_debug:b'em.trr'\n",
      "DEBUG:ethane_debug:b'           0   0%    0.00kB/s    0:00:00'\n",
      "DEBUG:ethane_debug:b'      19.32K 100%  943.36kB/s    0:00:00 (xfer#8, to-check=7/17)'\n",
      "DEBUG:ethane_debug:b'mdout.mdp'\n",
      "DEBUG:ethane_debug:b'           0   0%    0.00kB/s    0:00:00'\n",
      "DEBUG:ethane_debug:b'      11.66K 100%  542.22kB/s    0:00:00 (xfer#9, to-check=6/17)'\n",
      "DEBUG:ethane_debug:b'nvt.edr'\n",
      "DEBUG:ethane_debug:b'           0   0%    0.00kB/s    0:00:00'\n",
      "DEBUG:ethane_debug:b'      53.14K 100%    2.11MB/s    0:00:00 (xfer#10, to-check=5/17)'\n",
      "DEBUG:ethane_debug:b'nvt.log'\n",
      "DEBUG:ethane_debug:b'           0   0%    0.00kB/s    0:00:00'\n",
      "DEBUG:ethane_debug:b'     154.70K 100%    4.10MB/s    0:00:00 (xfer#11, to-check=4/17)'\n",
      "DEBUG:ethane_debug:b'nvt.tpr'\n",
      "DEBUG:ethane_debug:b'           0   0%    0.00kB/s    0:00:00'\n",
      "DEBUG:ethane_debug:b'      41.70K 100%    1.05MB/s    0:00:00 (xfer#12, to-check=2/17)'\n",
      "DEBUG:ethane_debug:b'nvt.trr'\n",
      "DEBUG:ethane_debug:b'           0   0%    0.00kB/s    0:00:00'\n",
      "DEBUG:ethane_debug:b'     192.60K 100%    3.28MB/s    0:00:00 (xfer#13, to-check=1/17)'\n",
      "DEBUG:ethane_debug:b'nvt.xtc'\n",
      "DEBUG:ethane_debug:b'           0   0%    0.00kB/s    0:00:00'\n",
      "DEBUG:ethane_debug:b'     290.64K 100%    3.42MB/s    0:00:00 (xfer#14, to-check=0/17)'\n",
      "DEBUG:ethane_debug:b''\n",
      "DEBUG:ethane_debug:b'sent 2.95K bytes  received 693.81K bytes  464.50K bytes/sec'\n",
      "DEBUG:ethane_debug:b'total size is 994.63K  speedup is 1.43'\n"
     ]
    }
   ],
   "source": [
    "task.sync()"
   ]
  },
  {
   "cell_type": "code",
   "execution_count": 13,
   "metadata": {
    "collapsed": false
   },
   "outputs": [
    {
     "data": {
      "text/plain": [
       "['/Users/ctk3b/science/python/imodels/demos/demos/ethane_box/output/task_0/em.trr',\n",
       " '/Users/ctk3b/science/python/imodels/demos/demos/ethane_box/output/task_0/nvt.trr',\n",
       " '/Users/ctk3b/science/python/imodels/demos/demos/ethane_box/output/task_0/nvt.xtc']"
      ]
     },
     "execution_count": 13,
     "metadata": {},
     "output_type": "execute_result"
    }
   ],
   "source": [
    "# Analyze\n",
    "trajectories = task.get_output_files('trajectories')\n",
    "topologies = task.get_output_files('topologies')\n",
    "\n",
    "trajectories"
   ]
  },
  {
   "cell_type": "code",
   "execution_count": 14,
   "metadata": {
    "collapsed": false
   },
   "outputs": [
    {
     "name": "stdout",
     "output_type": "stream",
     "text": [
      "<mdtraj.Trajectory with 49 frames, 1600 atoms, 200 residues, and unitcells>\n"
     ]
    }
   ],
   "source": [
    "traj = md.load('output/task_0/nvt.xtc', top='output/task_0/em.gro')\n",
    "print(traj)\n",
    "# TrajectorySliderView(traj)"
   ]
  },
  {
   "cell_type": "code",
   "execution_count": 15,
   "metadata": {
    "collapsed": false
   },
   "outputs": [
    {
     "data": {
      "text/plain": [
       "<matplotlib.text.Text at 0x10e523978>"
      ]
     },
     "execution_count": 15,
     "metadata": {},
     "output_type": "execute_result"
    },
    {
     "data": {
      "image/png": "[encoded data removed]",
      "text/plain": [
       "<matplotlib.figure.Figure at 0x10e572978>"
      ]
     },
     "metadata": {},
     "output_type": "display_data"
    }
   ],
   "source": [
    "s2 = md.compute_nematic_order(traj, 'residues')\n",
    "plt.plot(traj.time, s2)\n",
    "plt.xlabel('time (ps)')\n",
    "plt.ylabel('S2')"
   ]
  },
  {
   "cell_type": "code",
   "execution_count": 16,
   "metadata": {
    "collapsed": false
   },
   "outputs": [
    {
     "data": {
      "text/plain": [
       "<matplotlib.text.Text at 0x10df210b8>"
      ]
     },
     "execution_count": 16,
     "metadata": {},
     "output_type": "execute_result"
    },
    {
     "data": {
      "image/png": "[encoded data removed]",
      "text/plain": [
       "<matplotlib.figure.Figure at 0x10df96048>"
      ]
     },
     "metadata": {},
     "output_type": "display_data"
    }
   ],
   "source": [
    "pairs = traj.top.select_pairs('name C', 'name C')\n",
    "r, g_r = md.compute_rdf(traj, pairs)\n",
    "plt.plot(r, g_r)\n",
    "plt.xlabel('r (nm)')\n",
    "plt.ylabel('g(r)')"
   ]
  },
  {
   "cell_type": "code",
   "execution_count": null,
   "metadata": {
    "collapsed": false
   },
   "outputs": [],
   "source": [
    "os.getcwd()"
   ]
  },
  {
   "cell_type": "code",
   "execution_count": null,
   "metadata": {
    "collapsed": true
   },
   "outputs": [],
   "source": []
  },
  {
   "cell_type": "code",
   "execution_count": null,
   "metadata": {
    "collapsed": true
   },
   "outputs": [],
   "source": []
  },
  {
   "cell_type": "code",
   "execution_count": null,
   "metadata": {
    "collapsed": true
   },
   "outputs": [],
   "source": []
  },
  {
   "cell_type": "code",
   "execution_count": null,
   "metadata": {
    "collapsed": true
   },
   "outputs": [],
   "source": []
  },
  {
   "cell_type": "code",
   "execution_count": null,
   "metadata": {
    "collapsed": true
   },
   "outputs": [],
   "source": []
  }
 ],
 "metadata": {
  "kernelspec": {
   "display_name": "Python 3",
   "language": "python",
   "name": "python3"
  },
  "language_info": {
   "codemirror_mode": {
    "name": "ipython",
    "version": 3
   },
   "file_extension": ".py",
   "mimetype": "text/x-python",
   "name": "python",
   "nbconvert_exporter": "python",
   "pygments_lexer": "ipython3",
   "version": "3.4.4"
  }
 },
 "nbformat": 4,
 "nbformat_minor": 0
}
