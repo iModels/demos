{
 "cells": [
  {
   "cell_type": "code",
   "execution_count": null,
   "metadata": {
    "collapsed": false
   },
   "outputs": [],
   "source": [
    "import os\n",
    "import warnings\n",
    "warnings.filterwarnings('ignore')\n",
    "with warnings.catch_warnings():\n",
    "    warnings.simplefilter(\"ignore\")\n",
    "    import matplotlib.pyplot as plt\n",
    "    import seaborn as sns\n",
    "\n",
    "    import mbuild as mb\n",
    "    import metamds as mds\n",
    "    import mdtraj as md\n",
    "    from mdtraj.html import TrajectorySliderView\n",
    "\n",
    "%matplotlib inline\n",
    "!rm -rf output/ *.top *.gro"
   ]
  },
  {
   "cell_type": "code",
   "execution_count": null,
   "metadata": {
    "collapsed": true
   },
   "outputs": [],
   "source": [
    "def build_ethane_box(box, n_molecules, **kwargs):\n",
    "    from mbuild.examples import Ethane\n",
    "    ethane = Ethane()\n",
    "    full_box = mb.fill_box(ethane, n_molecules, box)\n",
    "    full_box.name = '{}_ethanes'.format(n_molecules)\n",
    "    return full_box"
   ]
  },
  {
   "cell_type": "code",
   "execution_count": null,
   "metadata": {
    "collapsed": true
   },
   "outputs": [],
   "source": [
    "# Input parameters\n",
    "parameters = {'n_molecules': 200,\n",
    "              'box': [3, 3, 3],\n",
    "              'forcefield': 'OPLS-aa'}\n",
    "\n",
    "# Build the initial configuration\n",
    "compound = build_ethane_box(**parameters)\n",
    "#compound.visualize()\n",
    "\n",
    "parameters['compound'] = compound"
   ]
  },
  {
   "cell_type": "code",
   "execution_count": null,
   "metadata": {
    "collapsed": true
   },
   "outputs": [],
   "source": [
    "def create_run_script(compound, forcefield, input_dir, **kwargs):\n",
    "    name = compound.name\n",
    "    em = os.path.join(input_dir, 'em.mdp')\n",
    "    nvt = os.path.join(input_dir, 'nvt.mdp')\n",
    "    gro = '{name}.gro'.format(name=name)\n",
    "    top = '{name}.top'.format(name=name)\n",
    "\n",
    "    compound.save(top, forcefield=forcefield, overwrite=True)\n",
    "\n",
    "    em_grompp = 'gmx grompp -f {mdp} -c {gro} -p {top} -o em.tpr'.format(mdp=em, gro=gro, top=top)\n",
    "    em_mdrun = 'gmx mdrun -v -deffnm em'\n",
    "\n",
    "    nvt_grompp = 'gmx grompp -f {mdp} -c em.gro -p {top} -o nvt.tpr'.format(mdp=nvt, top=top)\n",
    "    nvt_mdrun = 'gmx mdrun -v -deffnm nvt'\n",
    "\n",
    "    script = (em_grompp, em_mdrun, nvt_grompp, nvt_mdrun)\n",
    "    return script"
   ]
  },
  {
   "cell_type": "code",
   "execution_count": null,
   "metadata": {
    "collapsed": false
   },
   "outputs": [],
   "source": [
    "# Initialize a simulation instance with a template and some metadata\n",
    "sim = mds.Simulation(name='ethane', template=create_run_script, input_dir='static_input_files', output_dir='output')\n",
    "\n",
    "# Parameterize our simulation template\n",
    "task = sim.parametrize(**parameters)"
   ]
  },
  {
   "cell_type": "code",
   "execution_count": null,
   "metadata": {
    "collapsed": false
   },
   "outputs": [],
   "source": [
    "# Run\n",
    "REMOTE_EXECUTION=False\n",
    "if REMOTE_EXECUTION:\n",
    "    task.execute(hostname='rahman.vuse.vanderbilt.edu', username='imodels')\n",
    "else:\n",
    "    task.execute()\n"
   ]
  },
  {
   "cell_type": "code",
   "execution_count": null,
   "metadata": {
    "collapsed": false
   },
   "outputs": [],
   "source": [
    "if REMOTE_EXECUTION:\n",
    "    task.status()['start_time']"
   ]
  },
  {
   "cell_type": "code",
   "execution_count": null,
   "metadata": {
    "collapsed": false
   },
   "outputs": [],
   "source": [
    "if REMOTE_EXECUTION:\n",
    "    task.sync()"
   ]
  },
  {
   "cell_type": "code",
   "execution_count": null,
   "metadata": {
    "collapsed": false
   },
   "outputs": [],
   "source": [
    "# Analyze\n",
    "trajectories = task.get_output_files('trajectories')\n",
    "topologies = task.get_output_files('topologies')\n",
    "\n",
    "trajectories"
   ]
  },
  {
   "cell_type": "code",
   "execution_count": null,
   "metadata": {
    "collapsed": false
   },
   "outputs": [],
   "source": [
    "traj = md.load('output/task_0/nvt.xtc', top='output/task_0/em.gro')\n",
    "print(traj)\n",
    "# TrajectorySliderView(traj)"
   ]
  },
  {
   "cell_type": "code",
   "execution_count": null,
   "metadata": {
    "collapsed": false
   },
   "outputs": [],
   "source": [
    "s2 = md.compute_nematic_order(traj, 'residues')\n",
    "plt.plot(traj.time, s2)\n",
    "plt.xlabel('time (ps)')\n",
    "plt.ylabel('S2')"
   ]
  },
  {
   "cell_type": "code",
   "execution_count": null,
   "metadata": {
    "collapsed": false
   },
   "outputs": [],
   "source": [
    "pairs = traj.top.select_pairs('name C', 'name C')\n",
    "r, g_r = md.compute_rdf(traj, pairs)\n",
    "plt.plot(r, g_r)\n",
    "plt.xlabel('r (nm)')\n",
    "plt.ylabel('g(r)')"
   ]
  },
  {
   "cell_type": "code",
   "execution_count": null,
   "metadata": {
    "collapsed": false
   },
   "outputs": [],
   "source": [
    "os.getcwd()"
   ]
  },
  {
   "cell_type": "code",
   "execution_count": null,
   "metadata": {
    "collapsed": true
   },
   "outputs": [],
   "source": []
  }
 ],
 "metadata": {
  "kernelspec": {
   "display_name": "Python 2",
   "language": "python",
   "name": "python2"
  },
  "language_info": {
   "codemirror_mode": {
    "name": "ipython",
    "version": 2
   },
   "file_extension": ".py",
   "mimetype": "text/x-python",
   "name": "python",
   "nbconvert_exporter": "python",
   "pygments_lexer": "ipython2",
   "version": "2.7.11"
  }
 },
 "nbformat": 4,
 "nbformat_minor": 0
}
