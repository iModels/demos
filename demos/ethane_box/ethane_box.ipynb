{
 "cells": [
  {
   "cell_type": "code",
   "execution_count": 2,
   "metadata": {
    "collapsed": false
   },
   "outputs": [],
   "source": [
    "import warnings\n",
    "warnings.filterwarnings('ignore')\n",
    "with warnings.catch_warnings():\n",
    "    warnings.simplefilter(\"ignore\")\n",
    "    import matplotlib.pyplot as plt\n",
    "    import seaborn as sns\n",
    "\n",
    "    import mbuild as mb\n",
    "    import metamds as mds\n",
    "    import mdtraj as md\n",
    "    from mdtraj.html import TrajectorySliderView\n",
    "\n",
    "%matplotlib inline\n",
    "!rm -rf output/ *.top *.gro"
   ]
  },
  {
   "cell_type": "code",
   "execution_count": 3,
   "metadata": {
    "collapsed": true
   },
   "outputs": [],
   "source": [
    "def build_ethane_box(box, n_molecules, **kwargs):\n",
    "    from mbuild.examples import Ethane\n",
    "    ethane = Ethane()\n",
    "    full_box = mb.fill_box(ethane, n_molecules, box)\n",
    "    full_box.name = '{}_ethanes'.format(n_molecules)\n",
    "    return full_box"
   ]
  },
  {
   "cell_type": "code",
   "execution_count": 4,
   "metadata": {
    "collapsed": false
   },
   "outputs": [],
   "source": [
    "# Input parameters\n",
    "parameters = {'n_molecules': 200,\n",
    "              'box': [3, 3, 3],\n",
    "              'forcefield': 'OPLS-aa'}\n",
    "\n",
    "# Build the initial configuration\n",
    "compound = build_ethane_box(**parameters)\n",
    "#compound.visualize()\n",
    "\n",
    "parameters['compound'] = compound"
   ]
  },
  {
   "cell_type": "code",
   "execution_count": 5,
   "metadata": {
    "collapsed": true
   },
   "outputs": [],
   "source": [
    "def create_run_script(compound, forcefield, **kwargs):\n",
    "    name = compound.name\n",
    "    em = 'em.mdp'\n",
    "    nvt = 'nvt.mdp'\n",
    "    gro = '{name}.gro'.format(name=name)\n",
    "    top = '{name}.top'.format(name=name)\n",
    "\n",
    "    compound.save(top, forcefield=forcefield, overwrite=True)\n",
    "\n",
    "    em_grompp = 'gmx grompp -f {mdp} -c {gro} -p {top} -o em.tpr'.format(mdp=em, gro=gro, top=top)\n",
    "    em_mdrun = 'gmx mdrun -v -deffnm em'\n",
    "\n",
    "    nvt_grompp = 'gmx grompp -f {mdp} -c em.gro -p {top} -o nvt.tpr'.format(mdp=nvt, top=top)\n",
    "    nvt_mdrun = 'gmx mdrun -v -deffnm nvt'\n",
    "\n",
    "    script = (em_grompp, em_mdrun, nvt_grompp, nvt_mdrun)\n",
    "    return script"
   ]
  },
  {
   "cell_type": "code",
   "execution_count": 6,
   "metadata": {
    "collapsed": false
   },
   "outputs": [],
   "source": [
    "# Initialize a simulation instance with a template and some metadata\n",
    "sim = mds.Simulation(name='ethane', template=create_run_script, output_dir='ethane_box')\n",
    "\n",
    "# Parameterize our simulation template\n",
    "task = sim.parametrize(**parameters)"
   ]
  },
  {
   "cell_type": "code",
   "execution_count": 7,
   "metadata": {
    "collapsed": false
   },
   "outputs": [
    {
     "name": "stderr",
     "output_type": "stream",
     "text": [
      "DEBUG:ethane_debug:rsync -r -h --progress /Users/ctk3b/science/python/imodels/demos/demos/ethane_box/em.mdp /Users/ctk3b/science/python/imodels/demos/demos/ethane_box/nvt.mdp ctk3b@rahman.vuse.vanderbilt.edu:/raid6/homes/ctk3b/tmp.PdBWedFtoX\n",
      "DEBUG:ethane_debug:b'building file list ... '\n",
      "DEBUG:ethane_debug:b' 0 files...'\n",
      "DEBUG:ethane_debug:b'2 files to consider'\n",
      "DEBUG:ethane_debug:b'em.mdp'\n",
      "DEBUG:ethane_debug:b'         853 100%    0.00kB/s    0:00:00'\n",
      "DEBUG:ethane_debug:b'         853 100%    0.00kB/s    0:00:00 (xfer#1, to-check=1/2)'\n",
      "DEBUG:ethane_debug:b'nvt.mdp'\n",
      "DEBUG:ethane_debug:b'         534 100%  521.48kB/s    0:00:00'\n",
      "DEBUG:ethane_debug:b'         534 100%  521.48kB/s    0:00:00 (xfer#2, to-check=0/2)'\n",
      "DEBUG:ethane_debug:b''\n",
      "DEBUG:ethane_debug:b'sent 1.54K bytes  received 64 bytes  1.07K bytes/sec'\n",
      "DEBUG:ethane_debug:b'total size is 1.39K  speedup is 0.87'\n",
      "DEBUG:ethane_debug:rsync -r -h --links --progress /Users/ctk3b/science/python/imodels/demos/demos/ethane_box/ethane_box ctk3b@rahman.vuse.vanderbilt.edu:/raid6/homes/ctk3b/tmp.PdBWedFtoX\n",
      "DEBUG:ethane_debug:b'building file list ... '\n",
      "DEBUG:ethane_debug:b' 0 files...'\n",
      "DEBUG:ethane_debug:b'8 files to consider'\n",
      "DEBUG:ethane_debug:b'ethane_box/'\n",
      "DEBUG:ethane_debug:b'ethane_box/ethane_debug.log'\n",
      "DEBUG:ethane_debug:b'       1.07K 100%    0.00kB/s    0:00:00'\n",
      "DEBUG:ethane_debug:b'       1.07K 100%    0.00kB/s    0:00:00 (xfer#1, to-check=6/8)'\n",
      "DEBUG:ethane_debug:b'ethane_box/ethane_info.log'\n",
      "DEBUG:ethane_debug:b'           0 100%    0.00kB/s    0:00:00 (xfer#2, to-check=5/8)'\n",
      "DEBUG:ethane_debug:b'ethane_box/task_0/'\n",
      "DEBUG:ethane_debug:b'ethane_box/task_0/200_ethanes.gro'\n",
      "DEBUG:ethane_debug:b'      32.77K  45%   31.25MB/s    0:00:00'\n",
      "DEBUG:ethane_debug:b'      72.08K 100%   68.74MB/s    0:00:00 (xfer#3, to-check=3/8)'\n",
      "DEBUG:ethane_debug:b'ethane_box/task_0/200_ethanes.top'\n",
      "DEBUG:ethane_debug:b'       4.40K 100%    4.19MB/s    0:00:00'\n",
      "DEBUG:ethane_debug:b'       4.40K 100%    4.19MB/s    0:00:00 (xfer#4, to-check=2/8)'\n",
      "DEBUG:ethane_debug:b'ethane_box/task_0/em.mdp -> ../../em.mdp'\n",
      "DEBUG:ethane_debug:b'ethane_box/task_0/nvt.mdp -> ../../nvt.mdp'\n",
      "DEBUG:ethane_debug:b''\n",
      "DEBUG:ethane_debug:b'sent 77.98K bytes  received 132 bytes  52.07K bytes/sec'\n",
      "DEBUG:ethane_debug:b'total size is 77.57K  speedup is 0.99'\n"
     ]
    }
   ],
   "source": [
    "# Run\n",
    "task.execute(hostname='rahman.vuse.vanderbilt.edu', username='ctk3b')"
   ]
  },
  {
   "cell_type": "code",
   "execution_count": 17,
   "metadata": {
    "collapsed": false
   },
   "outputs": [
    {
     "name": "stderr",
     "output_type": "stream",
     "text": [
      "DEBUG:ethane_debug:rsync -r -h --progress ctk3b@rahman.vuse.vanderbilt.edu:/raid6/homes/ctk3b/tmp.PdBWedFtoX/ethane_box/task_0/* /Users/ctk3b/science/python/imodels/demos/demos/ethane_box/ethane_box/task_0\n",
      "DEBUG:ethane_debug:b'receiving file list ... '\n",
      "DEBUG:ethane_debug:b'18 files to consider'\n",
      "DEBUG:ethane_debug:b'skipping non-regular file \"em.mdp\"'\n",
      "DEBUG:ethane_debug:b'skipping non-regular file \"nvt.mdp\"'\n",
      "DEBUG:ethane_debug:b'#mdout.mdp.1#'\n",
      "DEBUG:ethane_debug:b'           0   0%    0.00kB/s    0:00:00'\n",
      "DEBUG:ethane_debug:b'      11.63K 100%   11.09MB/s    0:00:00 (xfer#1, to-check=17/18)'\n",
      "DEBUG:ethane_debug:b'200_ethanes.gro'\n",
      "DEBUG:ethane_debug:b'           0   0%    0.00kB/s    0:00:00'\n",
      "DEBUG:ethane_debug:b'      72.08K 100%  224.89kB/s    0:00:00 (xfer#2, to-check=16/18)'\n",
      "DEBUG:ethane_debug:b'200_ethanes.top'\n",
      "DEBUG:ethane_debug:b'           0   0%    0.00kB/s    0:00:00'\n",
      "DEBUG:ethane_debug:b'       4.40K 100%   13.67kB/s    0:00:00 (xfer#3, to-check=15/18)'\n",
      "DEBUG:ethane_debug:b'em.edr'\n",
      "DEBUG:ethane_debug:b'           0   0%    0.00kB/s    0:00:00'\n",
      "DEBUG:ethane_debug:b'       3.40K 100%   10.55kB/s    0:00:00 (xfer#4, to-check=14/18)'\n",
      "DEBUG:ethane_debug:b'em.gro'\n",
      "DEBUG:ethane_debug:b'           0   0%    0.00kB/s    0:00:00'\n",
      "DEBUG:ethane_debug:b'      72.05K 100%  222.67kB/s    0:00:00 (xfer#5, to-check=13/18)'\n",
      "DEBUG:ethane_debug:b'em.log'\n",
      "DEBUG:ethane_debug:b'           0   0%    0.00kB/s    0:00:00'\n",
      "DEBUG:ethane_debug:b'      25.56K 100%   78.73kB/s    0:00:00 (xfer#6, to-check=12/18)'\n",
      "DEBUG:ethane_debug:b'em.tpr'\n",
      "DEBUG:ethane_debug:b'           0   0%    0.00kB/s    0:00:00'\n",
      "DEBUG:ethane_debug:b'      41.71K 100%  128.08kB/s    0:00:00 (xfer#7, to-check=10/18)'\n",
      "DEBUG:ethane_debug:b'em.trr'\n",
      "DEBUG:ethane_debug:b'           0   0%    0.00kB/s    0:00:00'\n",
      "DEBUG:ethane_debug:b'      19.32K 100%   59.14kB/s    0:00:00 (xfer#8, to-check=9/18)'\n",
      "DEBUG:ethane_debug:b'mdout.mdp'\n",
      "DEBUG:ethane_debug:b'           0   0%    0.00kB/s    0:00:00'\n",
      "DEBUG:ethane_debug:b'      11.66K 100%   35.70kB/s    0:00:00 (xfer#9, to-check=8/18)'\n",
      "DEBUG:ethane_debug:b'nvt.cpt'\n",
      "DEBUG:ethane_debug:b'           0   0%    0.00kB/s    0:00:00'\n",
      "DEBUG:ethane_debug:b'      39.50K 100%   45.48kB/s    0:00:00 (xfer#10, to-check=7/18)'\n",
      "DEBUG:ethane_debug:b'nvt.edr'\n",
      "DEBUG:ethane_debug:b'           0   0%    0.00kB/s    0:00:00'\n",
      "DEBUG:ethane_debug:b'     144.20K  66%  104.00kB/s    0:00:00'\n",
      "DEBUG:ethane_debug:b'     217.08K 100%  125.89kB/s    0:00:01 (xfer#11, to-check=6/18)'\n",
      "DEBUG:ethane_debug:b'nvt.gro'\n",
      "DEBUG:ethane_debug:b'           0   0%    0.00kB/s    0:00:00'\n",
      "DEBUG:ethane_debug:b'      65.54K  59%   45.49kB/s    0:00:00'\n",
      "DEBUG:ethane_debug:b'     110.45K 100%   58.40kB/s    0:00:01 (xfer#12, to-check=5/18)'\n",
      "DEBUG:ethane_debug:b'nvt.log'\n",
      "DEBUG:ethane_debug:b'           0   0%    0.00kB/s    0:00:00'\n",
      "DEBUG:ethane_debug:b'     430.37K  72%  358.60kB/s    0:00:00'\n",
      "DEBUG:ethane_debug:b'     596.29K 100%  291.16kB/s    0:00:02 (xfer#13, to-check=4/18)'\n",
      "DEBUG:ethane_debug:b'nvt.tpr'\n",
      "DEBUG:ethane_debug:b'           0   0%    0.00kB/s    0:00:00'\n",
      "DEBUG:ethane_debug:b'      41.70K 100%   49.12kB/s    0:00:00 (xfer#14, to-check=2/18)'\n",
      "DEBUG:ethane_debug:b'nvt.trr'\n",
      "DEBUG:ethane_debug:b'           0   0%    0.00kB/s    0:00:00'\n",
      "DEBUG:ethane_debug:b'     616.22K  76%  590.56kB/s    0:00:00'\n",
      "DEBUG:ethane_debug:b'     808.92K 100%  473.60kB/s    0:00:01 (xfer#15, to-check=1/18)'\n",
      "DEBUG:ethane_debug:b'nvt.xtc'\n",
      "DEBUG:ethane_debug:b'           0   0%    0.00kB/s    0:00:00'\n",
      "DEBUG:ethane_debug:b'     940.99K  78%  893.04kB/s    0:00:00'\n",
      "DEBUG:ethane_debug:b'       1.19M 100%  677.80kB/s    0:00:01 (xfer#16, to-check=0/18)'\n",
      "DEBUG:ethane_debug:b''\n",
      "DEBUG:ethane_debug:b'sent 17.92K bytes  received 978.12K bytes  94.86K bytes/sec'\n",
      "DEBUG:ethane_debug:b'total size is 3.27M  speedup is 3.28'\n"
     ]
    }
   ],
   "source": [
    "task.sync()"
   ]
  },
  {
   "cell_type": "code",
   "execution_count": 18,
   "metadata": {
    "collapsed": false
   },
   "outputs": [
    {
     "data": {
      "text/plain": [
       "['/Users/ctk3b/science/python/imodels/demos/demos/ethane_box/ethane_box/task_0/nvt.xtc',\n",
       " '/Users/ctk3b/science/python/imodels/demos/demos/ethane_box/ethane_box/task_0/em.trr',\n",
       " '/Users/ctk3b/science/python/imodels/demos/demos/ethane_box/ethane_box/task_0/nvt.trr']"
      ]
     },
     "execution_count": 18,
     "metadata": {},
     "output_type": "execute_result"
    }
   ],
   "source": [
    "# Analyze\n",
    "trajectories = task.get_output_files('trajectories')\n",
    "topologies = task.get_output_files('topologies')\n",
    "\n",
    "trajectories"
   ]
  },
  {
   "cell_type": "code",
   "execution_count": 19,
   "metadata": {
    "collapsed": false
   },
   "outputs": [
    {
     "name": "stdout",
     "output_type": "stream",
     "text": [
      "<mdtraj.Trajectory with 201 frames, 1600 atoms, 200 residues, and unitcells>\n"
     ]
    }
   ],
   "source": [
    "traj = md.load('ethane_box/task_0/nvt.xtc', top='ethane_box/task_0/nvt.gro')\n",
    "print(traj)\n",
    "TrajectorySliderView(traj)"
   ]
  },
  {
   "cell_type": "code",
   "execution_count": 20,
   "metadata": {
    "collapsed": false
   },
   "outputs": [
    {
     "data": {
      "text/plain": [
       "<matplotlib.text.Text at 0x10ef5e358>"
      ]
     },
     "execution_count": 20,
     "metadata": {},
     "output_type": "execute_result"
    },
    {
     "data": {
      "image/png": "[encoded data removed]",
      "text/plain": [
       "<matplotlib.figure.Figure at 0x10ef83b00>"
      ]
     },
     "metadata": {},
     "output_type": "display_data"
    }
   ],
   "source": [
    "s2 = md.compute_nematic_order(traj, 'residues')\n",
    "plt.plot(traj.time, s2)\n",
    "plt.xlabel('time (ps)')\n",
    "plt.ylabel('S2')"
   ]
  },
  {
   "cell_type": "code",
   "execution_count": 21,
   "metadata": {
    "collapsed": false
   },
   "outputs": [
    {
     "data": {
      "text/plain": [
       "<matplotlib.text.Text at 0x10f132dd8>"
      ]
     },
     "execution_count": 21,
     "metadata": {},
     "output_type": "execute_result"
    },
    {
     "data": {
      "image/png": "[encoded data removed]",
      "text/plain": [
       "<matplotlib.figure.Figure at 0x10f185ac8>"
      ]
     },
     "metadata": {},
     "output_type": "display_data"
    }
   ],
   "source": [
    "pairs = traj.top.select_pairs('name C', 'name C')\n",
    "r, g_r = md.compute_rdf(traj, pairs)\n",
    "plt.plot(r, g_r)\n",
    "plt.xlabel('r (nm)')\n",
    "plt.ylabel('g(r)')"
   ]
  },
  {
   "cell_type": "code",
   "execution_count": null,
   "metadata": {
    "collapsed": true
   },
   "outputs": [],
   "source": []
  },
  {
   "cell_type": "code",
   "execution_count": null,
   "metadata": {
    "collapsed": true
   },
   "outputs": [],
   "source": []
  },
  {
   "cell_type": "code",
   "execution_count": null,
   "metadata": {
    "collapsed": true
   },
   "outputs": [],
   "source": []
  },
  {
   "cell_type": "code",
   "execution_count": null,
   "metadata": {
    "collapsed": true
   },
   "outputs": [],
   "source": []
  },
  {
   "cell_type": "code",
   "execution_count": null,
   "metadata": {
    "collapsed": true
   },
   "outputs": [],
   "source": []
  },
  {
   "cell_type": "code",
   "execution_count": null,
   "metadata": {
    "collapsed": true
   },
   "outputs": [],
   "source": []
  }
 ],
 "metadata": {
  "kernelspec": {
   "display_name": "Python 3",
   "language": "python",
   "name": "python3"
  },
  "language_info": {
   "codemirror_mode": {
    "name": "ipython",
    "version": 3
   },
   "file_extension": ".py",
   "mimetype": "text/x-python",
   "name": "python",
   "nbconvert_exporter": "python",
   "pygments_lexer": "ipython3",
   "version": "3.4.4"
  }
 },
 "nbformat": 4,
 "nbformat_minor": 0
}
