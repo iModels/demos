{
 "cells": [
  {
   "cell_type": "code",
   "execution_count": 5,
   "metadata": {
    "collapsed": false
   },
   "outputs": [
    {
     "ename": "ImportError",
     "evalue": "cannot import name DOMWidget",
     "output_type": "error",
     "traceback": [
      "\u001b[0;31m---------------------------------------------------------------------------\u001b[0m",
      "\u001b[0;31mImportError\u001b[0m                               Traceback (most recent call last)",
      "\u001b[0;32m<ipython-input-5-713fa5c90be4>\u001b[0m in \u001b[0;36m<module>\u001b[0;34m()\u001b[0m\n\u001b[1;32m     11\u001b[0m     \u001b[0;32mimport\u001b[0m \u001b[0mmetamds\u001b[0m \u001b[0;32mas\u001b[0m \u001b[0mmds\u001b[0m\u001b[0;34m\u001b[0m\u001b[0m\n\u001b[1;32m     12\u001b[0m     \u001b[0;32mimport\u001b[0m \u001b[0mmdtraj\u001b[0m \u001b[0;32mas\u001b[0m \u001b[0mmd\u001b[0m\u001b[0;34m\u001b[0m\u001b[0m\n\u001b[0;32m---> 13\u001b[0;31m     \u001b[0;32mfrom\u001b[0m \u001b[0mmdtraj\u001b[0m\u001b[0;34m.\u001b[0m\u001b[0mhtml\u001b[0m \u001b[0;32mimport\u001b[0m \u001b[0mTrajectorySliderView\u001b[0m\u001b[0;34m\u001b[0m\u001b[0m\n\u001b[0m\u001b[1;32m     14\u001b[0m \u001b[0;34m\u001b[0m\u001b[0m\n\u001b[1;32m     15\u001b[0m \u001b[0mget_ipython\u001b[0m\u001b[0;34m(\u001b[0m\u001b[0;34m)\u001b[0m\u001b[0;34m.\u001b[0m\u001b[0mmagic\u001b[0m\u001b[0;34m(\u001b[0m\u001b[0;34mu'matplotlib inline'\u001b[0m\u001b[0;34m)\u001b[0m\u001b[0;34m\u001b[0m\u001b[0m\n",
      "\u001b[0;32m/Users/sallai/anaconda/envs/imodels/lib/python2.7/site-packages/mdtraj/html/__init__.py\u001b[0m in \u001b[0;36m<module>\u001b[0;34m()\u001b[0m\n\u001b[1;32m      1\u001b[0m \u001b[0;32mfrom\u001b[0m \u001b[0;34m.\u001b[0m\u001b[0minstall\u001b[0m \u001b[0;32mimport\u001b[0m \u001b[0menable_notebook\u001b[0m\u001b[0;34m\u001b[0m\u001b[0m\n\u001b[0;32m----> 2\u001b[0;31m \u001b[0;32mfrom\u001b[0m \u001b[0;34m.\u001b[0m\u001b[0mtrajectory_widget\u001b[0m \u001b[0;32mimport\u001b[0m \u001b[0mTrajectoryView\u001b[0m\u001b[0;34m,\u001b[0m \u001b[0mTrajectorySliderView\u001b[0m\u001b[0;34m\u001b[0m\u001b[0m\n\u001b[0m\u001b[1;32m      3\u001b[0m \u001b[0;32mfrom\u001b[0m \u001b[0;34m.\u001b[0m\u001b[0mlinked_heatmap\u001b[0m \u001b[0;32mimport\u001b[0m \u001b[0mTrajectoryHeatmap\u001b[0m\u001b[0;34m\u001b[0m\u001b[0m\n",
      "\u001b[0;32m/Users/sallai/anaconda/envs/imodels/lib/python2.7/site-packages/mdtraj/html/trajectory_widget.py\u001b[0m in \u001b[0;36m<module>\u001b[0;34m()\u001b[0m\n\u001b[1;32m     12\u001b[0m \u001b[0;32mexcept\u001b[0m \u001b[0mImportError\u001b[0m\u001b[0;34m:\u001b[0m\u001b[0;34m\u001b[0m\u001b[0m\n\u001b[1;32m     13\u001b[0m     \u001b[0;31m# IPython 3.x\u001b[0m\u001b[0;34m\u001b[0m\u001b[0;34m\u001b[0m\u001b[0m\n\u001b[0;32m---> 14\u001b[0;31m     \u001b[0;32mfrom\u001b[0m \u001b[0mIPython\u001b[0m\u001b[0;34m.\u001b[0m\u001b[0mhtml\u001b[0m\u001b[0;34m.\u001b[0m\u001b[0mwidgets\u001b[0m \u001b[0;32mimport\u001b[0m \u001b[0mDOMWidget\u001b[0m\u001b[0;34m,\u001b[0m \u001b[0mIntSlider\u001b[0m\u001b[0;34m,\u001b[0m \u001b[0mBox\u001b[0m\u001b[0;34m,\u001b[0m \u001b[0minteractive\u001b[0m\u001b[0;34m\u001b[0m\u001b[0m\n\u001b[0m\u001b[1;32m     15\u001b[0m     \u001b[0;32mfrom\u001b[0m \u001b[0mIPython\u001b[0m\u001b[0;34m.\u001b[0m\u001b[0mutils\u001b[0m\u001b[0;34m.\u001b[0m\u001b[0mtraitlets\u001b[0m \u001b[0;32mimport\u001b[0m \u001b[0mUnicode\u001b[0m\u001b[0;34m,\u001b[0m \u001b[0mBool\u001b[0m\u001b[0;34m,\u001b[0m \u001b[0mBytes\u001b[0m\u001b[0;34m,\u001b[0m \u001b[0mCInt\u001b[0m\u001b[0;34m,\u001b[0m \u001b[0mAny\u001b[0m\u001b[0;34m,\u001b[0m \u001b[0mDict\u001b[0m\u001b[0;34m,\u001b[0m \u001b[0mEnum\u001b[0m\u001b[0;34m\u001b[0m\u001b[0m\n\u001b[1;32m     16\u001b[0m \u001b[0;34m\u001b[0m\u001b[0m\n",
      "\u001b[0;31mImportError\u001b[0m: cannot import name DOMWidget"
     ]
    }
   ],
   "source": [
    "import os\n",
    "import warnings\n",
    "warnings.filterwarnings('ignore')\n",
    "with warnings.catch_warnings():\n",
    "    warnings.simplefilter(\"ignore\")\n",
    "    import matplotlib.pyplot as plt\n",
    "    import seaborn as sns\n",
    "\n",
    "    from simgen.project import Project\n",
    "    import mbuild as mb\n",
    "    import metamds as mds\n",
    "    import mdtraj as md\n",
    "    from mdtraj.html import TrajectorySliderView\n",
    "    \n",
    "%matplotlib inline\n",
    "!rm -rf output/ *.top *.gro"
   ]
  },
  {
   "cell_type": "code",
   "execution_count": 6,
   "metadata": {
    "collapsed": true
   },
   "outputs": [],
   "source": [
    "github_project_url = 'https://github.com/iModels/demos/demos/ethane_box/binary_lj_sim/online_project.yaml'"
   ]
  },
  {
   "cell_type": "code",
   "execution_count": 7,
   "metadata": {
    "collapsed": false
   },
   "outputs": [
    {
     "data": {
      "text/html": [
       "<iframe width=\"99%\" height=\"1000\" src=\"/nbextensions/mdsblocks/index.html\">\n",
       "                <script language=\"text/javascript\">\n",
       "                    window.IPY_VARS = {\n",
       "                        OAUTH_TOKEN: cefc24b777915ae6ca26258a2fe5502161b7f9de,\n",
       "                        DEFAULT_PROJECT: \"https://github.com/iModels/demos/demos/ethane_box/binary_lj_sim/online_project.yaml\",\n",
       "                        EDITOR_ID: \"4480488528\"\n",
       "                    };\n",
       "                </script>\n",
       "            </iframe>"
      ],
      "text/plain": [
       "<IPython.core.display.HTML object>"
      ]
     },
     "execution_count": 7,
     "metadata": {},
     "output_type": "execute_result"
    }
   ],
   "source": [
    "from simgen.mdsblocks.editor import Editor\n",
    "editor = Editor('cefc24b777915ae6ca26258a2fe5502161b7f9de', github_project_url)\n",
    "editor.show()"
   ]
  },
  {
   "cell_type": "code",
   "execution_count": 8,
   "metadata": {
    "collapsed": false
   },
   "outputs": [
    {
     "data": {
      "text/plain": [
       "<module 'simgen.mdsblocks.editor' from '/Users/sallai/PycharmProjects/simgen/simgen/mdsblocks/editor.pyc'>"
      ]
     },
     "execution_count": 8,
     "metadata": {},
     "output_type": "execute_result"
    }
   ],
   "source": [
    "smds_ed"
   ]
  },
  {
   "cell_type": "code",
   "execution_count": 9,
   "metadata": {
    "collapsed": true
   },
   "outputs": [],
   "source": [
    "def build_ethane_box(box, n_molecules, **kwargs):\n",
    "    from mbuild.examples import Ethane\n",
    "    ethane = Ethane()\n",
    "    full_box = mb.fill_box(ethane, n_molecules, box)\n",
    "    full_box.name = '{}_ethanes'.format(n_molecules)\n",
    "    return full_box"
   ]
  },
  {
   "cell_type": "code",
   "execution_count": 12,
   "metadata": {
    "collapsed": false
   },
   "outputs": [],
   "source": [
    "def create_run_script(**parameters):\n",
    "    project = Project(github_project_url)\n",
    "\n",
    "    run_script = project.render('prg', output_dir='./', inject_dict=parameters)\n",
    "    return [run_script]"
   ]
  },
  {
   "cell_type": "code",
   "execution_count": 13,
   "metadata": {
    "collapsed": true
   },
   "outputs": [],
   "source": [
    "# Input parameters\n",
    "parameters = {'n_molecules': 200,\n",
    "              'box': [3, 3, 3],\n",
    "              'forcefield': 'OPLS-aa',\n",
    "              'system_name': 'ethane_box'}\n",
    "\n",
    "# Build the initial configuration\n",
    "compound = build_ethane_box(**parameters)\n",
    "#compound.visualize()\n",
    "\n",
    "parameters['compound'] = compound"
   ]
  },
  {
   "cell_type": "code",
   "execution_count": null,
   "metadata": {
    "collapsed": false
   },
   "outputs": [],
   "source": []
  },
  {
   "cell_type": "code",
   "execution_count": null,
   "metadata": {
    "collapsed": true
   },
   "outputs": [],
   "source": []
  },
  {
   "cell_type": "code",
   "execution_count": 14,
   "metadata": {
    "collapsed": false
   },
   "outputs": [
    {
     "name": "stdout",
     "output_type": "stream",
     "text": [
      "Cloning repo: imodels/demos\n",
      "git clone https://github.com/imodels/demos.git\n"
     ]
    }
   ],
   "source": [
    "# Initialize a simulation instance with a template and some metadata\n",
    "sim = mds.Simulation(name='ethane', template=create_run_script, input_dir='static_input_files', output_dir='simgen_output')\n",
    "\n",
    "# Parameterize our simulation template\n",
    "task = sim.parametrize(**parameters)"
   ]
  },
  {
   "cell_type": "code",
   "execution_count": 15,
   "metadata": {
    "collapsed": false
   },
   "outputs": [
    {
     "name": "stderr",
     "output_type": "stream",
     "text": [
      "INFO:ethane_info:Running:  \n",
      " /bin/sh ./run.sh\n",
      "\n",
      "DEBUG:ethane_debug:Analysing residue names:\n",
      "DEBUG:ethane_debug:There are:   200      Other residues\n",
      "DEBUG:ethane_debug:Analysing residues not classified as Protein/DNA/RNA/Water and splitting into groups...\n",
      "DEBUG:ethane_debug:Calculating fourier grid dimensions for X Y Z\n",
      "DEBUG:ethane_debug:Using a fourier grid of 32x32x32, spacing 0.109 0.110 0.109\n",
      "DEBUG:ethane_debug:This run will generate roughly 0 Mb of data\n",
      "DEBUG:ethane_debug:turning H bonds into constraints...\n",
      "DEBUG:ethane_debug:Analysing residue names:\n",
      "DEBUG:ethane_debug:There are:   200      Other residues\n",
      "DEBUG:ethane_debug:Analysing residues not classified as Protein/DNA/RNA/Water and splitting into groups...\n",
      "DEBUG:ethane_debug:Determining Verlet buffer for a tolerance of 0.005 kJ/mol/ps at 298.15 K\n",
      "DEBUG:ethane_debug:Calculated rlist for 1x1 atom pair-list as 1.000 nm, buffer size 0.000 nm\n",
      "DEBUG:ethane_debug:Set rlist, assuming 4x4 atom pair-list, to 1.000 nm, buffer size 0.000 nm\n",
      "DEBUG:ethane_debug:Note that mdrun will redetermine rlist based on the actual pair-list setup\n",
      "DEBUG:ethane_debug:Calculating fourier grid dimensions for X Y Z\n",
      "DEBUG:ethane_debug:Using a fourier grid of 32x32x32, spacing 0.109 0.110 0.109\n",
      "DEBUG:ethane_debug:This run will generate roughly 0 Mb of data\n",
      "DEBUG:ethane_debug:                  :-) GROMACS - gmx grompp, VERSION 5.1.1 (-:\n",
      "DEBUG:ethane_debug:\n",
      "DEBUG:ethane_debug:                            GROMACS is written by:\n",
      "DEBUG:ethane_debug:     Emile Apol      Rossen Apostolov  Herman J.C. Berendsen    Par Bjelkmar   \n",
      "DEBUG:ethane_debug: Aldert van Buuren   Rudi van Drunen     Anton Feenstra   Sebastian Fritsch \n",
      "DEBUG:ethane_debug:  Gerrit Groenhof   Christoph Junghans   Anca Hamuraru    Vincent Hindriksen\n",
      "DEBUG:ethane_debug: Dimitrios Karkoulis    Peter Kasson        Jiri Kraus      Carsten Kutzner  \n",
      "DEBUG:ethane_debug:    Per Larsson      Justin A. Lemkul   Magnus Lundborg   Pieter Meulenhoff \n",
      "DEBUG:ethane_debug:   Erik Marklund      Teemu Murtola       Szilard Pall       Sander Pronk   \n",
      "DEBUG:ethane_debug:   Roland Schulz     Alexey Shvetsov     Michael Shirts     Alfons Sijbers  \n",
      "DEBUG:ethane_debug:   Peter Tieleman    Teemu Virolainen  Christian Wennberg    Maarten Wolf   \n",
      "DEBUG:ethane_debug:                           and the project leaders:\n",
      "DEBUG:ethane_debug:        Mark Abraham, Berk Hess, Erik Lindahl, and David van der Spoel\n",
      "DEBUG:ethane_debug:\n",
      "DEBUG:ethane_debug:Copyright (c) 1991-2000, University of Groningen, The Netherlands.\n",
      "DEBUG:ethane_debug:Copyright (c) 2001-2015, The GROMACS development team at\n",
      "DEBUG:ethane_debug:Uppsala University, Stockholm University and\n",
      "DEBUG:ethane_debug:the Royal Institute of Technology, Sweden.\n",
      "DEBUG:ethane_debug:check out http://www.gromacs.org for more information.\n",
      "DEBUG:ethane_debug:\n",
      "DEBUG:ethane_debug:GROMACS is free software; you can redistribute it and/or modify it\n",
      "DEBUG:ethane_debug:under the terms of the GNU Lesser General Public License\n",
      "DEBUG:ethane_debug:as published by the Free Software Foundation; either version 2.1\n",
      "DEBUG:ethane_debug:of the License, or (at your option) any later version.\n",
      "DEBUG:ethane_debug:\n",
      "DEBUG:ethane_debug:GROMACS:      gmx grompp, VERSION 5.1.1\n",
      "DEBUG:ethane_debug:Executable:   /usr/local/gromacs/bin/gmx\n",
      "DEBUG:ethane_debug:Data prefix:  /usr/local/gromacs\n",
      "DEBUG:ethane_debug:Command line:\n",
      "DEBUG:ethane_debug:  gmx grompp -f em.mdp -c ethane_box.gro -p ethane_box.top -o em.tpr\n",
      "DEBUG:ethane_debug:\n",
      "DEBUG:ethane_debug:\n",
      "DEBUG:ethane_debug:Back Off! I just backed up mdout.mdp to ./#mdout.mdp.2#\n",
      "DEBUG:ethane_debug:\n",
      "DEBUG:ethane_debug:NOTE 1 [file em.mdp]:\n",
      "DEBUG:ethane_debug:  With Verlet lists the optimal nstlist is >= 10, with GPUs >= 20. Note\n",
      "DEBUG:ethane_debug:  that with the Verlet scheme, nstlist has no effect on the accuracy of\n",
      "DEBUG:ethane_debug:  your simulation.\n",
      "DEBUG:ethane_debug:\n",
      "DEBUG:ethane_debug:Setting the LD random seed to 2601237606\n",
      "DEBUG:ethane_debug:Generated 3 of the 3 non-bonded parameter combinations\n",
      "DEBUG:ethane_debug:Generating 1-4 interactions: fudge = 0.5\n",
      "DEBUG:ethane_debug:Generated 3 of the 3 1-4 parameter combinations\n",
      "DEBUG:ethane_debug:Excluding 3 bonded neighbours molecule type 'RES'\n",
      "DEBUG:ethane_debug:Removing all charge groups because cutoff-scheme=Verlet\n",
      "DEBUG:ethane_debug:Number of degrees of freedom in T-Coupling group rest is 4797.00\n",
      "DEBUG:ethane_debug:Estimate for the relative computational load of the PME mesh part: 0.35\n",
      "DEBUG:ethane_debug:\n",
      "DEBUG:ethane_debug:There was 1 note\n",
      "DEBUG:ethane_debug:\n",
      "DEBUG:ethane_debug:Back Off! I just backed up em.tpr to ./#em.tpr.1#\n",
      "DEBUG:ethane_debug:\n",
      "DEBUG:ethane_debug:gcq#101: \"The World is a Friendly Place\" (Magnapop)\n",
      "DEBUG:ethane_debug:\n",
      "DEBUG:ethane_debug:                   :-) GROMACS - gmx mdrun, VERSION 5.1.1 (-:\n",
      "DEBUG:ethane_debug:\n",
      "DEBUG:ethane_debug:                            GROMACS is written by:\n",
      "DEBUG:ethane_debug:     Emile Apol      Rossen Apostolov  Herman J.C. Berendsen    Par Bjelkmar   \n",
      "DEBUG:ethane_debug: Aldert van Buuren   Rudi van Drunen     Anton Feenstra   Sebastian Fritsch \n",
      "DEBUG:ethane_debug:  Gerrit Groenhof   Christoph Junghans   Anca Hamuraru    Vincent Hindriksen\n",
      "DEBUG:ethane_debug: Dimitrios Karkoulis    Peter Kasson        Jiri Kraus      Carsten Kutzner  \n",
      "DEBUG:ethane_debug:    Per Larsson      Justin A. Lemkul   Magnus Lundborg   Pieter Meulenhoff \n",
      "DEBUG:ethane_debug:   Erik Marklund      Teemu Murtola       Szilard Pall       Sander Pronk   \n",
      "DEBUG:ethane_debug:   Roland Schulz     Alexey Shvetsov     Michael Shirts     Alfons Sijbers  \n",
      "DEBUG:ethane_debug:   Peter Tieleman    Teemu Virolainen  Christian Wennberg    Maarten Wolf   \n",
      "DEBUG:ethane_debug:                           and the project leaders:\n",
      "DEBUG:ethane_debug:        Mark Abraham, Berk Hess, Erik Lindahl, and David van der Spoel\n",
      "DEBUG:ethane_debug:\n",
      "DEBUG:ethane_debug:Copyright (c) 1991-2000, University of Groningen, The Netherlands.\n",
      "DEBUG:ethane_debug:Copyright (c) 2001-2015, The GROMACS development team at\n",
      "DEBUG:ethane_debug:Uppsala University, Stockholm University and\n",
      "DEBUG:ethane_debug:the Royal Institute of Technology, Sweden.\n",
      "DEBUG:ethane_debug:check out http://www.gromacs.org for more information.\n",
      "DEBUG:ethane_debug:\n",
      "DEBUG:ethane_debug:GROMACS is free software; you can redistribute it and/or modify it\n",
      "DEBUG:ethane_debug:under the terms of the GNU Lesser General Public License\n",
      "DEBUG:ethane_debug:as published by the Free Software Foundation; either version 2.1\n",
      "DEBUG:ethane_debug:of the License, or (at your option) any later version.\n",
      "DEBUG:ethane_debug:\n",
      "DEBUG:ethane_debug:GROMACS:      gmx mdrun, VERSION 5.1.1\n",
      "DEBUG:ethane_debug:Executable:   /usr/local/gromacs/bin/gmx\n",
      "DEBUG:ethane_debug:Data prefix:  /usr/local/gromacs\n",
      "DEBUG:ethane_debug:Command line:\n",
      "DEBUG:ethane_debug:  gmx mdrun -v -deffnm em\n",
      "DEBUG:ethane_debug:\n",
      "DEBUG:ethane_debug:\n",
      "DEBUG:ethane_debug:Back Off! I just backed up em.log to ./#em.log.1#\n",
      "DEBUG:ethane_debug:\n",
      "DEBUG:ethane_debug:Running on 1 node with total 4 logical cores\n",
      "DEBUG:ethane_debug:Hardware detected:\n",
      "DEBUG:ethane_debug:  CPU info:\n",
      "DEBUG:ethane_debug:    Vendor: GenuineIntel\n",
      "DEBUG:ethane_debug:    Brand:  Intel(R) Core(TM) i7-5557U CPU @ 3.10GHz\n",
      "DEBUG:ethane_debug:    SIMD instructions most likely to fit this hardware: AVX2_256\n",
      "DEBUG:ethane_debug:    SIMD instructions selected at GROMACS compile time: AVX2_256\n",
      "DEBUG:ethane_debug:\n",
      "DEBUG:ethane_debug:Reading file em.tpr, VERSION 5.1.1 (single precision)\n",
      "DEBUG:ethane_debug:Using 4 MPI threads\n",
      "DEBUG:ethane_debug:\n",
      "DEBUG:ethane_debug:Back Off! I just backed up em.trr to ./#em.trr.1#\n",
      "DEBUG:ethane_debug:\n",
      "DEBUG:ethane_debug:Back Off! I just backed up em.edr to ./#em.edr.1#\n",
      "DEBUG:ethane_debug:\n",
      "DEBUG:ethane_debug:Steepest Descents:\n",
      "DEBUG:ethane_debug:   Tolerance (Fmax)   =  1.00000e+03\n",
      "DEBUG:ethane_debug:   Number of steps    =         5000\n",
      "DEBUG:ethane_debug:Step=    0, Dmax= 1.0e-02 nm, Epot=  3.03168e+04 Fmax= 3.41076e+03, atom= 1005\n",
      "DEBUG:ethane_debug:Step=    1, Dmax= 1.0e-02 nm, Epot=  2.05741e+04 Fmax= 2.76484e+03, atom= 1006\n",
      "DEBUG:ethane_debug:Step=    2, Dmax= 1.2e-02 nm, Epot=  1.80949e+04 Fmax= 5.09269e+03, atom= 369\n",
      "DEBUG:ethane_debug:Step=    3, Dmax= 1.4e-02 nm, Epot=  1.67284e+04 Fmax= 5.45111e+03, atom= 369\n",
      "DEBUG:ethane_debug:Step=    4, Dmax= 1.7e-02 nm, Epot=  2.25538e+04 Fmax= 8.39559e+03, atom= 369\n",
      "DEBUG:ethane_debug:Step=    5, Dmax= 8.6e-03 nm, Epot=  9.46924e+03 Fmax= 2.01863e+03, atom= 1073\n",
      "DEBUG:ethane_debug:Step=    6, Dmax= 1.0e-02 nm, Epot=  1.03555e+04 Fmax= 4.90585e+03, atom= 369\n",
      "DEBUG:ethane_debug:Step=    7, Dmax= 5.2e-03 nm, Epot=  7.95717e+03 Fmax= 1.45376e+03, atom= 1074\n",
      "DEBUG:ethane_debug:Step=    8, Dmax= 6.2e-03 nm, Epot=  8.23338e+03 Fmax= 4.33753e+03, atom= 1073\n",
      "DEBUG:ethane_debug:Step=    9, Dmax= 3.1e-03 nm, Epot=  6.71809e+03 Fmax= 1.55153e+03, atom= 1073\n",
      "DEBUG:ethane_debug:Step=   10, Dmax= 3.7e-03 nm, Epot=  5.75083e+03 Fmax= 1.01416e+03, atom= 1074\n",
      "DEBUG:ethane_debug:Step=   11, Dmax= 4.5e-03 nm, Epot=  5.43726e+03 Fmax= 3.12625e+03, atom= 1073\n",
      "DEBUG:ethane_debug:Step=   12, Dmax= 5.4e-03 nm, Epot=  4.02376e+03 Fmax= 9.38100e+02, atom= 369\n",
      "DEBUG:ethane_debug:\n",
      "DEBUG:ethane_debug:writing lowest energy coordinates.\n",
      "DEBUG:ethane_debug:\n",
      "DEBUG:ethane_debug:Back Off! I just backed up em.gro to ./#em.gro.1#\n",
      "DEBUG:ethane_debug:\n",
      "DEBUG:ethane_debug:Steepest Descents converged to Fmax < 1000 in 13 steps\n",
      "DEBUG:ethane_debug:Potential Energy  =  4.0237551e+03\n",
      "DEBUG:ethane_debug:Maximum force     =  9.3810016e+02 on atom 369\n",
      "DEBUG:ethane_debug:Norm of force     =  5.2653540e+02\n",
      "DEBUG:ethane_debug:\n",
      "DEBUG:ethane_debug:NOTE: 12 % of the run time was spent in domain decomposition,\n",
      "DEBUG:ethane_debug:      4 % of the run time was spent in pair search,\n",
      "DEBUG:ethane_debug:      you might want to increase nstlist (this has no effect on accuracy)\n",
      "DEBUG:ethane_debug:\n",
      "DEBUG:ethane_debug:\n",
      "DEBUG:ethane_debug:gcq#426: \"It all works because Avogadro's number is closer to infinity than to 10.\" (Ralph Baierlein)\n",
      "DEBUG:ethane_debug:\n",
      "DEBUG:ethane_debug:                  :-) GROMACS - gmx grompp, VERSION 5.1.1 (-:\n",
      "DEBUG:ethane_debug:\n",
      "DEBUG:ethane_debug:                            GROMACS is written by:\n",
      "DEBUG:ethane_debug:     Emile Apol      Rossen Apostolov  Herman J.C. Berendsen    Par Bjelkmar   \n",
      "DEBUG:ethane_debug: Aldert van Buuren   Rudi van Drunen     Anton Feenstra   Sebastian Fritsch \n",
      "DEBUG:ethane_debug:  Gerrit Groenhof   Christoph Junghans   Anca Hamuraru    Vincent Hindriksen\n",
      "DEBUG:ethane_debug: Dimitrios Karkoulis    Peter Kasson        Jiri Kraus      Carsten Kutzner  \n",
      "DEBUG:ethane_debug:    Per Larsson      Justin A. Lemkul   Magnus Lundborg   Pieter Meulenhoff \n",
      "DEBUG:ethane_debug:   Erik Marklund      Teemu Murtola       Szilard Pall       Sander Pronk   \n",
      "DEBUG:ethane_debug:   Roland Schulz     Alexey Shvetsov     Michael Shirts     Alfons Sijbers  \n",
      "DEBUG:ethane_debug:   Peter Tieleman    Teemu Virolainen  Christian Wennberg    Maarten Wolf   \n",
      "DEBUG:ethane_debug:                           and the project leaders:\n",
      "DEBUG:ethane_debug:        Mark Abraham, Berk Hess, Erik Lindahl, and David van der Spoel\n",
      "DEBUG:ethane_debug:\n",
      "DEBUG:ethane_debug:Copyright (c) 1991-2000, University of Groningen, The Netherlands.\n",
      "DEBUG:ethane_debug:Copyright (c) 2001-2015, The GROMACS development team at\n",
      "DEBUG:ethane_debug:Uppsala University, Stockholm University and\n",
      "DEBUG:ethane_debug:the Royal Institute of Technology, Sweden.\n",
      "DEBUG:ethane_debug:check out http://www.gromacs.org for more information.\n",
      "DEBUG:ethane_debug:\n",
      "DEBUG:ethane_debug:GROMACS is free software; you can redistribute it and/or modify it\n",
      "DEBUG:ethane_debug:under the terms of the GNU Lesser General Public License\n",
      "DEBUG:ethane_debug:as published by the Free Software Foundation; either version 2.1\n",
      "DEBUG:ethane_debug:of the License, or (at your option) any later version.\n",
      "DEBUG:ethane_debug:\n",
      "DEBUG:ethane_debug:GROMACS:      gmx grompp, VERSION 5.1.1\n",
      "DEBUG:ethane_debug:Executable:   /usr/local/gromacs/bin/gmx\n",
      "DEBUG:ethane_debug:Data prefix:  /usr/local/gromacs\n",
      "DEBUG:ethane_debug:Command line:\n",
      "DEBUG:ethane_debug:  gmx grompp -f nvt.mdp -c em.gro -p ethane_box.top -o nvt.tpr\n",
      "DEBUG:ethane_debug:\n",
      "DEBUG:ethane_debug:\n",
      "DEBUG:ethane_debug:NOTE 1 [file nvt.mdp, line 27]:\n",
      "DEBUG:ethane_debug:  nvt.mdp did not specify a value for the .mdp option \"cutoff-scheme\".\n",
      "DEBUG:ethane_debug:  Probably it was first intended for use with GROMACS before 4.6. In 4.6,\n",
      "DEBUG:ethane_debug:  the Verlet scheme was introduced, but the group scheme was still the\n",
      "DEBUG:ethane_debug:  default. The default is now the Verlet scheme, so you will observe\n",
      "DEBUG:ethane_debug:  different behaviour.\n",
      "DEBUG:ethane_debug:\n",
      "DEBUG:ethane_debug:\n",
      "DEBUG:ethane_debug:Back Off! I just backed up mdout.mdp to ./#mdout.mdp.3#\n",
      "DEBUG:ethane_debug:Setting the LD random seed to 4276113488\n",
      "DEBUG:ethane_debug:Generated 3 of the 3 non-bonded parameter combinations\n",
      "DEBUG:ethane_debug:Generating 1-4 interactions: fudge = 0.5\n",
      "DEBUG:ethane_debug:Generated 3 of the 3 1-4 parameter combinations\n",
      "DEBUG:ethane_debug:Excluding 3 bonded neighbours molecule type 'RES'\n",
      "DEBUG:ethane_debug:Removing all charge groups because cutoff-scheme=Verlet\n",
      "DEBUG:ethane_debug:Number of degrees of freedom in T-Coupling group System is 3597.00\n",
      "DEBUG:ethane_debug:Estimate for the relative computational load of the PME mesh part: 0.35\n",
      "DEBUG:ethane_debug:\n",
      "DEBUG:ethane_debug:There was 1 note\n",
      "DEBUG:ethane_debug:\n",
      "DEBUG:ethane_debug:Back Off! I just backed up nvt.tpr to ./#nvt.tpr.1#\n",
      "DEBUG:ethane_debug:\n",
      "DEBUG:ethane_debug:gcq#258: \"All You Need is Greed\" (Aztec Camera)\n",
      "DEBUG:ethane_debug:\n",
      "DEBUG:ethane_debug:                   :-) GROMACS - gmx mdrun, VERSION 5.1.1 (-:\n",
      "DEBUG:ethane_debug:\n",
      "DEBUG:ethane_debug:                            GROMACS is written by:\n",
      "DEBUG:ethane_debug:     Emile Apol      Rossen Apostolov  Herman J.C. Berendsen    Par Bjelkmar   \n",
      "DEBUG:ethane_debug: Aldert van Buuren   Rudi van Drunen     Anton Feenstra   Sebastian Fritsch \n",
      "DEBUG:ethane_debug:  Gerrit Groenhof   Christoph Junghans   Anca Hamuraru    Vincent Hindriksen\n",
      "DEBUG:ethane_debug: Dimitrios Karkoulis    Peter Kasson        Jiri Kraus      Carsten Kutzner  \n",
      "DEBUG:ethane_debug:    Per Larsson      Justin A. Lemkul   Magnus Lundborg   Pieter Meulenhoff \n",
      "DEBUG:ethane_debug:   Erik Marklund      Teemu Murtola       Szilard Pall       Sander Pronk   \n",
      "DEBUG:ethane_debug:   Roland Schulz     Alexey Shvetsov     Michael Shirts     Alfons Sijbers  \n",
      "DEBUG:ethane_debug:   Peter Tieleman    Teemu Virolainen  Christian Wennberg    Maarten Wolf   \n",
      "DEBUG:ethane_debug:                           and the project leaders:\n",
      "DEBUG:ethane_debug:        Mark Abraham, Berk Hess, Erik Lindahl, and David van der Spoel\n",
      "DEBUG:ethane_debug:\n",
      "DEBUG:ethane_debug:Copyright (c) 1991-2000, University of Groningen, The Netherlands.\n",
      "DEBUG:ethane_debug:Copyright (c) 2001-2015, The GROMACS development team at\n",
      "DEBUG:ethane_debug:Uppsala University, Stockholm University and\n",
      "DEBUG:ethane_debug:the Royal Institute of Technology, Sweden.\n",
      "DEBUG:ethane_debug:check out http://www.gromacs.org for more information.\n",
      "DEBUG:ethane_debug:\n",
      "DEBUG:ethane_debug:GROMACS is free software; you can redistribute it and/or modify it\n",
      "DEBUG:ethane_debug:under the terms of the GNU Lesser General Public License\n",
      "DEBUG:ethane_debug:as published by the Free Software Foundation; either version 2.1\n",
      "DEBUG:ethane_debug:of the License, or (at your option) any later version.\n",
      "DEBUG:ethane_debug:\n",
      "DEBUG:ethane_debug:GROMACS:      gmx mdrun, VERSION 5.1.1\n",
      "DEBUG:ethane_debug:Executable:   /usr/local/gromacs/bin/gmx\n",
      "DEBUG:ethane_debug:Data prefix:  /usr/local/gromacs\n",
      "DEBUG:ethane_debug:Command line:\n",
      "DEBUG:ethane_debug:  gmx mdrun -v -deffnm nvt\n",
      "DEBUG:ethane_debug:\n",
      "DEBUG:ethane_debug:\n",
      "DEBUG:ethane_debug:Back Off! I just backed up nvt.log to ./#nvt.log.1#\n",
      "DEBUG:ethane_debug:\n",
      "DEBUG:ethane_debug:Running on 1 node with total 4 logical cores\n",
      "DEBUG:ethane_debug:Hardware detected:\n",
      "DEBUG:ethane_debug:  CPU info:\n",
      "DEBUG:ethane_debug:    Vendor: GenuineIntel\n",
      "DEBUG:ethane_debug:    Brand:  Intel(R) Core(TM) i7-5557U CPU @ 3.10GHz\n",
      "DEBUG:ethane_debug:    SIMD instructions most likely to fit this hardware: AVX2_256\n",
      "DEBUG:ethane_debug:    SIMD instructions selected at GROMACS compile time: AVX2_256\n",
      "DEBUG:ethane_debug:\n",
      "DEBUG:ethane_debug:Reading file nvt.tpr, VERSION 5.1.1 (single precision)\n",
      "DEBUG:ethane_debug:Changing nstlist from 10 to 40, rlist from 1 to 1\n",
      "DEBUG:ethane_debug:\n",
      "DEBUG:ethane_debug:Using 4 MPI threads\n",
      "DEBUG:ethane_debug:\n",
      "DEBUG:ethane_debug:Back Off! I just backed up nvt.trr to ./#nvt.trr.1#\n",
      "DEBUG:ethane_debug:\n",
      "DEBUG:ethane_debug:Back Off! I just backed up nvt.xtc to ./#nvt.xtc.1#\n",
      "DEBUG:ethane_debug:\n",
      "DEBUG:ethane_debug:Back Off! I just backed up nvt.edr to ./#nvt.edr.1#\n",
      "DEBUG:ethane_debug:starting mdrun 'Generic title'\n",
      "DEBUG:ethane_debug:1000 steps,      1.0 ps.\n",
      "DEBUG:ethane_debug:\n",
      "DEBUG:ethane_debug:step 0\n",
      "DEBUG:ethane_debug:NOTE: Turning on dynamic load balancing\n",
      "DEBUG:ethane_debug:\n",
      "DEBUG:ethane_debug:\n",
      "DEBUG:ethane_debug:step 100, remaining wall clock time:     0 s          vol 0.79  imb F 29% \n",
      "DEBUG:ethane_debug:step 200, remaining wall clock time:     0 s          \n",
      "DEBUG:ethane_debug:step 300, remaining wall clock time:     0 s          vol 0.68! imb F  5% \n",
      "DEBUG:ethane_debug:step 400, remaining wall clock time:     0 s          \n",
      "DEBUG:ethane_debug:step 500, remaining wall clock time:     0 s          vol 0.68! imb F  4% \n",
      "DEBUG:ethane_debug:step 600, remaining wall clock time:     0 s          \n",
      "DEBUG:ethane_debug:step 700, remaining wall clock time:     0 s          vol 0.68! imb F  1% \n",
      "DEBUG:ethane_debug:step 800, remaining wall clock time:     0 s          \n",
      "DEBUG:ethane_debug:step 900, remaining wall clock time:     0 s          vol 0.68! imb F  4% \n",
      "DEBUG:ethane_debug:Writing final coordinates.\n",
      "DEBUG:ethane_debug:\n",
      "DEBUG:ethane_debug:Back Off! I just backed up nvt.gro to ./#nvt.gro.1#\n",
      "DEBUG:ethane_debug:\n",
      "DEBUG:ethane_debug:step 1000, remaining wall clock time:     0 s          \n",
      "DEBUG:ethane_debug: Average load imbalance: 13.0 %\n",
      "DEBUG:ethane_debug: Part of the total run time spent waiting due to load imbalance: 4.8 %\n",
      "DEBUG:ethane_debug: Steps where the load balancing was limited by -rdd, -rcon and/or -dds: X 1 %\n",
      "DEBUG:ethane_debug:\n",
      "DEBUG:ethane_debug:\n",
      "DEBUG:ethane_debug:               Core t (s)   Wall t (s)        (%)\n",
      "DEBUG:ethane_debug:       Time:        3.672        0.918      400.0\n",
      "DEBUG:ethane_debug:                 (ns/day)    (hour/ns)\n",
      "DEBUG:ethane_debug:Performance:       94.214        0.255\n",
      "DEBUG:ethane_debug:\n",
      "DEBUG:ethane_debug:gcq#303: \"I believe in miracles cause I'm one\" (The Ramones)\n",
      "DEBUG:ethane_debug:\n",
      "INFO:ethane_info:Success!\n"
     ]
    },
    {
     "name": "stdout",
     "output_type": "stream",
     "text": [
      "('/Users/sallai/PycharmProjects/demos/demos/ethane_box', '/Users/sallai/PycharmProjects/demos/demos/ethane_box/simgen_output/task_0')\n",
      " \n",
      " /bin/sh ./run.sh\n",
      "\n"
     ]
    }
   ],
   "source": [
    "# Run\n",
    "#task.execute(hostname='rahman.vuse.vanderbilt.edu', username='ctk3b')\n",
    "task.execute()"
   ]
  },
  {
   "cell_type": "code",
   "execution_count": 16,
   "metadata": {
    "collapsed": false
   },
   "outputs": [],
   "source": [
    "#task.sync()"
   ]
  },
  {
   "cell_type": "code",
   "execution_count": 17,
   "metadata": {
    "collapsed": false
   },
   "outputs": [
    {
     "name": "stdout",
     "output_type": "stream",
     "text": [
      "<mdtraj.Trajectory with 3 frames, 1600 atoms, 200 residues, and unitcells>\n"
     ]
    }
   ],
   "source": [
    "# Analyze\n",
    "trajectories = task.get_output_files('trajectories')\n",
    "topologies = task.get_output_files('topologies')\n",
    "\n",
    "trj_path = os.path.join(task.output_dir, 'nvt.xtc')\n",
    "top_path = os.path.join(task.output_dir, 'em.gro')\n",
    "traj = md.load(trj_path, top=top_path)\n",
    "print(traj)\n"
   ]
  },
  {
   "cell_type": "code",
   "execution_count": 18,
   "metadata": {
    "collapsed": false
   },
   "outputs": [
    {
     "ename": "NameError",
     "evalue": "name 'TrajectorySliderView' is not defined",
     "output_type": "error",
     "traceback": [
      "\u001b[0;31m---------------------------------------------------------------------------\u001b[0m",
      "\u001b[0;31mNameError\u001b[0m                                 Traceback (most recent call last)",
      "\u001b[0;32m<ipython-input-18-5537848d4ef0>\u001b[0m in \u001b[0;36m<module>\u001b[0;34m()\u001b[0m\n\u001b[0;32m----> 1\u001b[0;31m \u001b[0mTrajectorySliderView\u001b[0m\u001b[0;34m(\u001b[0m\u001b[0mtraj\u001b[0m\u001b[0;34m)\u001b[0m\u001b[0;34m\u001b[0m\u001b[0m\n\u001b[0m",
      "\u001b[0;31mNameError\u001b[0m: name 'TrajectorySliderView' is not defined"
     ]
    }
   ],
   "source": [
    "TrajectorySliderView(traj)"
   ]
  },
  {
   "cell_type": "code",
   "execution_count": 19,
   "metadata": {
    "collapsed": false
   },
   "outputs": [
    {
     "data": {
      "text/plain": [
       "<matplotlib.text.Text at 0x10dad5250>"
      ]
     },
     "execution_count": 19,
     "metadata": {},
     "output_type": "execute_result"
    }
   ],
   "source": [
    "s2 = md.compute_nematic_order(traj, 'residues')\n",
    "plt.plot(traj.time, s2)\n",
    "plt.xlabel('time (ps)')\n",
    "plt.ylabel('S2')"
   ]
  },
  {
   "cell_type": "code",
   "execution_count": 20,
   "metadata": {
    "collapsed": false
   },
   "outputs": [
    {
     "data": {
      "text/plain": [
       "<matplotlib.text.Text at 0x10dad5250>"
      ]
     },
     "execution_count": 20,
     "metadata": {},
     "output_type": "execute_result"
    }
   ],
   "source": [
    "pairs = traj.top.select_pairs('name C', 'name C')\n",
    "r, g_r = md.compute_rdf(traj, pairs)\n",
    "plt.plot(r, g_r)\n",
    "plt.xlabel('r (nm)')\n",
    "plt.ylabel('g(r)')"
   ]
  },
  {
   "cell_type": "code",
   "execution_count": null,
   "metadata": {
    "collapsed": true
   },
   "outputs": [],
   "source": []
  },
  {
   "cell_type": "code",
   "execution_count": null,
   "metadata": {
    "collapsed": true
   },
   "outputs": [],
   "source": []
  },
  {
   "cell_type": "code",
   "execution_count": null,
   "metadata": {
    "collapsed": true
   },
   "outputs": [],
   "source": []
  },
  {
   "cell_type": "code",
   "execution_count": null,
   "metadata": {
    "collapsed": true
   },
   "outputs": [],
   "source": []
  },
  {
   "cell_type": "code",
   "execution_count": null,
   "metadata": {
    "collapsed": true
   },
   "outputs": [],
   "source": []
  },
  {
   "cell_type": "code",
   "execution_count": null,
   "metadata": {
    "collapsed": true
   },
   "outputs": [],
   "source": []
  }
 ],
 "metadata": {
  "kernelspec": {
   "display_name": "Python 2",
   "language": "python",
   "name": "python2"
  },
  "language_info": {
   "codemirror_mode": {
    "name": "ipython",
    "version": 2
   },
   "file_extension": ".py",
   "mimetype": "text/x-python",
   "name": "python",
   "nbconvert_exporter": "python",
   "pygments_lexer": "ipython2",
   "version": "2.7.11"
  }
 },
 "nbformat": 4,
 "nbformat_minor": 0
}
