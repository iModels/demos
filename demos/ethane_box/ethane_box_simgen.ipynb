{
 "cells": [
  {
   "cell_type": "code",
   "execution_count": null,
   "metadata": {
    "collapsed": true
   },
   "outputs": [],
   "source": [
    "import os\n",
    "import warnings\n",
    "warnings.filterwarnings('ignore')\n",
    "with warnings.catch_warnings():\n",
    "    warnings.simplefilter(\"ignore\")\n",
    "    import matplotlib.pyplot as plt\n",
    "    import seaborn as sns\n",
    "\n",
    "    from simgen.project import Project\n",
    "    import mbuild as mb\n",
    "    import metamds as mds\n",
    "    import mdtraj as md\n",
    "    #from mdtraj.html import TrajectorySliderView\n",
    "    \n",
    "%matplotlib inline\n",
    "!rm -rf simgen_output/ *.top *.gro"
   ]
  },
  {
   "cell_type": "code",
   "execution_count": null,
   "metadata": {
    "collapsed": true
   },
   "outputs": [],
   "source": [
    "github_project_url = 'https://github.com/iModels/demos/demos/ethane_box/binary_lj_sim'"
   ]
  },
  {
   "cell_type": "code",
   "execution_count": null,
   "metadata": {
    "collapsed": false
   },
   "outputs": [],
   "source": [
    "from simgen.mdsblocks.editor import Editor\n",
    "editor = Editor('<place_your_GitHub_token_here>', github_project_url)\n",
    "editor.show()"
   ]
  },
  {
   "cell_type": "code",
   "execution_count": null,
   "metadata": {
    "collapsed": false
   },
   "outputs": [],
   "source": [
    "editor.finished"
   ]
  },
  {
   "cell_type": "code",
   "execution_count": null,
   "metadata": {
    "collapsed": true
   },
   "outputs": [],
   "source": [
    "def build_ethane_box(box, n_molecules, **kwargs):\n",
    "    from mbuild.examples import Ethane\n",
    "    ethane = Ethane()\n",
    "    full_box = mb.fill_box(ethane, n_molecules, box)\n",
    "    full_box.name = '{}_ethanes'.format(n_molecules)\n",
    "    return full_box"
   ]
  },
  {
   "cell_type": "code",
   "execution_count": null,
   "metadata": {
    "collapsed": true
   },
   "outputs": [],
   "source": [
    "def create_run_script(**parameters):\n",
    "    project = Project(github_project_url+'/online_project.yaml')\n",
    "\n",
    "    return project.render_tasks('prg', output_dir='./', inject_dict=parameters)"
   ]
  },
  {
   "cell_type": "code",
   "execution_count": null,
   "metadata": {
    "collapsed": true
   },
   "outputs": [],
   "source": [
    "# Input parameters\n",
    "parameters = {'n_molecules': 200,\n",
    "              'box': [3, 3, 3],\n",
    "              'forcefield': 'OPLS-aa',\n",
    "              'system_name': 'ethane_box'}\n",
    "\n",
    "# Build the initial configuration\n",
    "compound = build_ethane_box(**parameters)\n",
    "#compound.visualize()\n",
    "\n",
    "parameters['compound'] = compound"
   ]
  },
  {
   "cell_type": "code",
   "execution_count": null,
   "metadata": {
    "collapsed": false
   },
   "outputs": [],
   "source": [
    "# Initialize a simulation instance with a template and some metadata\n",
    "sim = mds.Simulation(name='ethane', template=create_run_script, input_dir='static_input_files', output_dir='simgen_output')\n",
    "\n",
    "# Parameterize our simulation template\n",
    "task = sim.parametrize(**parameters)"
   ]
  },
  {
   "cell_type": "code",
   "execution_count": null,
   "metadata": {
    "collapsed": false
   },
   "outputs": [],
   "source": [
    "# Run\n",
    "#task.execute(hostname='rahman.vuse.vanderbilt.edu', username='ctk3b')\n",
    "task.execute()"
   ]
  },
  {
   "cell_type": "code",
   "execution_count": null,
   "metadata": {
    "collapsed": true
   },
   "outputs": [],
   "source": [
    "#task.sync()"
   ]
  },
  {
   "cell_type": "code",
   "execution_count": null,
   "metadata": {
    "collapsed": false
   },
   "outputs": [],
   "source": [
    "# Analyze\n",
    "trajectories = task.get_output_files('trajectories')\n",
    "topologies = task.get_output_files('topologies')\n",
    "\n",
    "trj_path = os.path.join(task.output_dir, 'nvt.xtc')\n",
    "top_path = os.path.join(task.output_dir, 'em.gro')\n",
    "traj = md.load(trj_path, top=top_path)\n",
    "print(traj)"
   ]
  },
  {
   "cell_type": "code",
   "execution_count": null,
   "metadata": {
    "collapsed": true
   },
   "outputs": [],
   "source": [
    "#TrajectorySliderView(traj)"
   ]
  },
  {
   "cell_type": "code",
   "execution_count": null,
   "metadata": {
    "collapsed": false
   },
   "outputs": [],
   "source": [
    "s2 = md.compute_nematic_order(traj, 'residues')\n",
    "plt.plot(traj.time, s2)\n",
    "plt.xlabel('time (ps)')\n",
    "plt.ylabel('S2')"
   ]
  },
  {
   "cell_type": "code",
   "execution_count": null,
   "metadata": {
    "collapsed": false
   },
   "outputs": [],
   "source": [
    "pairs = traj.top.select_pairs('name C', 'name C')\n",
    "r, g_r = md.compute_rdf(traj, pairs)\n",
    "plt.plot(r, g_r)\n",
    "plt.xlabel('r (nm)')\n",
    "plt.ylabel('g(r)')"
   ]
  },
  {
   "cell_type": "code",
   "execution_count": null,
   "metadata": {
    "collapsed": true
   },
   "outputs": [],
   "source": []
  }
 ],
 "metadata": {
  "kernelspec": {
   "display_name": "Python 2",
   "language": "python",
   "name": "python2"
  },
  "language_info": {
   "codemirror_mode": {
    "name": "ipython",
    "version": 2
   },
   "file_extension": ".py",
   "mimetype": "text/x-python",
   "name": "python",
   "nbconvert_exporter": "python",
   "pygments_lexer": "ipython2",
   "version": "2.7.11"
  }
 },
 "nbformat": 4,
 "nbformat_minor": 0
}
